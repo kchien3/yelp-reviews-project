{
 "cells": [
  {
   "cell_type": "markdown",
   "metadata": {},
   "source": [
    "# Part 2.1: Detecting Generated Reviews with non-NN Methods"
   ]
  },
  {
   "cell_type": "code",
   "execution_count": 9,
   "metadata": {},
   "outputs": [],
   "source": [
    "import numpy as np\n",
    "import pandas as pd\n",
    "import spacy\n",
    "import tensorflow as tf"
   ]
  },
  {
   "cell_type": "markdown",
   "metadata": {},
   "source": [
    "# Load Data"
   ]
  },
  {
   "cell_type": "code",
   "execution_count": 2,
   "metadata": {},
   "outputs": [],
   "source": [
    "df = pd.read_json('../data/classification.json', lines=True).drop('index', axis=1)"
   ]
  },
  {
   "cell_type": "markdown",
   "metadata": {},
   "source": [
    "The training set consists of 43.485% fake reviews and 56.515% human reviews."
   ]
  },
  {
   "cell_type": "code",
   "execution_count": 3,
   "metadata": {},
   "outputs": [
    {
     "name": "stdout",
     "output_type": "stream",
     "text": [
      "Reviews:\n",
      "Fake:0.435\tReal:0.565\n"
     ]
    }
   ],
   "source": [
    "print(f'Reviews:\\nFake:{df.fake.mean():.3f}\\tReal:{1 - df.fake.mean():.3f}')"
   ]
  },
  {
   "cell_type": "markdown",
   "metadata": {},
   "source": [
    "# EDA"
   ]
  },
  {
   "cell_type": "code",
   "execution_count": 4,
   "metadata": {},
   "outputs": [],
   "source": [
    "from sklearn.feature_extraction.text import TfidfVectorizer"
   ]
  },
  {
   "cell_type": "code",
   "execution_count": 5,
   "metadata": {},
   "outputs": [],
   "source": [
    "df_train = df\n",
    "\n",
    "# create tfidf matrix for training set\n",
    "\n",
    "# limit documents or computer will freeze.\n",
    "df_sample = df_train.sample(frac=10/10, weights=df_train['fake']+1, random_state=1459)\n",
    "\n",
    "# AND/OR #\n",
    "\n",
    "# limit features or computer will freeze.\n",
    "max_features = 8000\n",
    "\n",
    "\n",
    "vectorizer = TfidfVectorizer(max_features=max_features)\n",
    "df_tr_vect = vectorizer.fit_transform(df_sample.text)\n",
    "features = vectorizer.get_feature_names()"
   ]
  },
  {
   "cell_type": "code",
   "execution_count": 6,
   "metadata": {},
   "outputs": [],
   "source": [
    "# get indices of words with highest tfidf values\n",
    "\n",
    "# make sure to limit features above or computer will freeze.\n",
    "\n",
    "fake_features = df_tr_vect.toarray()[df_sample['fake']==1].mean(axis=0)\n",
    "real_features = df_tr_vect.toarray()[df_sample['fake']==0].mean(axis=0)"
   ]
  },
  {
   "cell_type": "code",
   "execution_count": 7,
   "metadata": {},
   "outputs": [],
   "source": [
    "nlp = spacy.load(\"en_core_web_sm\") # used later in notebook"
   ]
  },
  {
   "cell_type": "code",
   "execution_count": 10,
   "metadata": {},
   "outputs": [
    {
     "name": "stdout",
     "output_type": "stream",
     "text": [
      "fake: {'store', 'size', 'sauce', 'day', 'bar', 'enjoy', 'strip', 'dish', 'little', 'try', 'helpful', 'delicious', 'super', 'perfect', 'staff', 'parking', 'small', 'happy', 'favorite', 'bit', 'big', 'friendly', 'restaurant', 'chicken', 'menu'}\n",
      "\n",
      "Not fake: {'got', 'come', 'know', 'right', 'experience', 'love', 've', 'recommend'}\n"
     ]
    }
   ],
   "source": [
    "# print top important words unique to a class\n",
    "n = 100 # resulting sets will contain less than n words\n",
    "fake_set = set(np.array(features)[fake_features.argsort()[::-1][:n]])\n",
    "real_set = set(np.array(features)[real_features.argsort()[::-1][:n]])\n",
    "fake_string = ' '.join(fake_set.difference(real_set))\n",
    "real_string = ' '.join(real_set.difference(fake_set))\n",
    "fake_string_doc = nlp(fake_string)\n",
    "real_string_doc = nlp(real_string)\n",
    "\n",
    "fake_lemma = {token.lemma_ for token in fake_string_doc if not token.is_stop}\n",
    "real_lemma = {token.lemma_ for token in real_string_doc if not token.is_stop}\n",
    "\n",
    "print(f'fake: {fake_lemma}\\n\\nNot fake: {real_lemma}')"
   ]
  },
  {
   "cell_type": "markdown",
   "metadata": {},
   "source": [
    "# LightGBM Classifier"
   ]
  },
  {
   "cell_type": "code",
   "execution_count": 13,
   "metadata": {},
   "outputs": [],
   "source": [
    "# for train-test split\n",
    "from sklearn.model_selection import train_test_split\n",
    "\n",
    "# for pipelines\n",
    "from sklearn.pipeline import make_pipeline\n",
    "\n",
    "# for cross-validating pipeline estimators\n",
    "from sklearn.model_selection import cross_validate\n",
    "\n",
    "# classifiers\n",
    "# choose implementations of algorithms that can handle massive sparse matrices\n",
    "from lightgbm import LGBMClassifier"
   ]
  },
  {
   "cell_type": "code",
   "execution_count": 12,
   "metadata": {},
   "outputs": [],
   "source": [
    "X_train, X_test, y_train, y_test = train_test_split(df.text, df.fake, random_state=1518, stratify=df['fake'])"
   ]
  },
  {
   "cell_type": "markdown",
   "metadata": {},
   "source": [
    "## Cross-validation"
   ]
  },
  {
   "cell_type": "markdown",
   "metadata": {},
   "source": [
    "### Word Tokens Model"
   ]
  },
  {
   "cell_type": "code",
   "execution_count": null,
   "metadata": {},
   "outputs": [],
   "source": [
    "%%time\n",
    "#LGBMClassifier #needs tuning\n",
    "lgbm = make_pipeline(TfidfVectorizer(), LGBMClassifier(random_state=1522, \n",
    "                                                       n_jobs=-1\n",
    "                                                      ))\n",
    "scores_lgbm = cross_validate(lgbm, X_train, y_train, scoring='f1_weighted', n_jobs=-1)\n",
    "\n",
    "print(lgbm.steps, [[k, v.mean(), v.std()] for k, v in scores_lgbm.items()], sep='\\n')"
   ]
  },
  {
   "cell_type": "code",
   "execution_count": 15,
   "metadata": {},
   "outputs": [
    {
     "data": {
      "text/plain": [
       "Pipeline(memory=None,\n",
       "         steps=[('tfidfvectorizer',\n",
       "                 TfidfVectorizer(analyzer='word', binary=False,\n",
       "                                 decode_error='strict',\n",
       "                                 dtype=<class 'numpy.float64'>,\n",
       "                                 encoding='utf-8', input='content',\n",
       "                                 lowercase=True, max_df=1.0, max_features=None,\n",
       "                                 min_df=1, ngram_range=(1, 1), norm='l2',\n",
       "                                 preprocessor=None, smooth_idf=True,\n",
       "                                 stop_words=None, strip_accents=None,\n",
       "                                 sublinear_tf=False,\n",
       "                                 token...\n",
       "                 LGBMClassifier(boosting_type='gbdt', class_weight=None,\n",
       "                                colsample_bytree=1.0, importance_type='split',\n",
       "                                learning_rate=0.1, max_depth=-1,\n",
       "                                min_child_samples=20, min_child_weight=0.001,\n",
       "                                min_split_gain=0.0, n_estimators=100, n_jobs=-1,\n",
       "                                num_leaves=31, objective=None,\n",
       "                                random_state=1522, reg_alpha=0.0,\n",
       "                                reg_lambda=0.0, silent=True, subsample=1.0,\n",
       "                                subsample_for_bin=200000, subsample_freq=0))],\n",
       "         verbose=False)"
      ]
     },
     "execution_count": 15,
     "metadata": {},
     "output_type": "execute_result"
    }
   ],
   "source": [
    "# fit best model-to-date\n",
    "lgbm.fit(X_train, y_train)"
   ]
  },
  {
   "cell_type": "markdown",
   "metadata": {},
   "source": [
    "### Char Tokens Model (to see if the character-level text generator can fool the classifier on a level playing field)"
   ]
  },
  {
   "cell_type": "code",
   "execution_count": 52,
   "metadata": {},
   "outputs": [
    {
     "name": "stdout",
     "output_type": "stream",
     "text": [
      "[('tfidfvectorizer', TfidfVectorizer(analyzer='char', binary=False, decode_error='strict',\n",
      "                dtype=<class 'numpy.float64'>, encoding='utf-8',\n",
      "                input='content', lowercase=True, max_df=1.0, max_features=None,\n",
      "                min_df=1, ngram_range=(1, 1), norm='l2', preprocessor=None,\n",
      "                smooth_idf=True, stop_words=None, strip_accents=None,\n",
      "                sublinear_tf=False, token_pattern='(?u)\\\\b\\\\w\\\\w+\\\\b',\n",
      "                tokenizer=None, use_idf=True, vocabulary=None)), ('lgbmclassifier', LGBMClassifier(boosting_type='gbdt', class_weight=None, colsample_bytree=1.0,\n",
      "               importance_type='split', learning_rate=0.1, max_depth=-1,\n",
      "               min_child_samples=20, min_child_weight=0.001, min_split_gain=0.0,\n",
      "               n_estimators=100, n_jobs=-1, num_leaves=31, objective=None,\n",
      "               random_state=1610, reg_alpha=0.0, reg_lambda=0.0, silent=True,\n",
      "               subsample=1.0, subsample_for_bin=200000, subsample_freq=0))]\n",
      "[['fit_time', 6.08186707496643, 0.2271069517453649], ['score_time', 0.5276010036468506, 0.05112043804972757], ['test_score', 0.7691381220352105, 0.0031304706610489914]]\n",
      "Wall time: 9.44 s\n"
     ]
    }
   ],
   "source": [
    "%%time\n",
    "#LGBMClassifier #needs tuning\n",
    "lgbm_char = make_pipeline(TfidfVectorizer(analyzer='char'), LGBMClassifier(random_state=1610, \n",
    "                                                       n_jobs=-1\n",
    "                                                      ))\n",
    "scores_lgbm_char = cross_validate(lgbm_char, X_train, y_train, scoring='f1_weighted', n_jobs=-1)\n",
    "\n",
    "print(lgbm_char.steps, [[k, v.mean(), v.std()] for k, v in scores_lgbm_char.items()], sep='\\n')"
   ]
  },
  {
   "cell_type": "code",
   "execution_count": 53,
   "metadata": {},
   "outputs": [
    {
     "data": {
      "text/plain": [
       "Pipeline(memory=None,\n",
       "         steps=[('tfidfvectorizer',\n",
       "                 TfidfVectorizer(analyzer='char', binary=False,\n",
       "                                 decode_error='strict',\n",
       "                                 dtype=<class 'numpy.float64'>,\n",
       "                                 encoding='utf-8', input='content',\n",
       "                                 lowercase=True, max_df=1.0, max_features=None,\n",
       "                                 min_df=1, ngram_range=(1, 1), norm='l2',\n",
       "                                 preprocessor=None, smooth_idf=True,\n",
       "                                 stop_words=None, strip_accents=None,\n",
       "                                 sublinear_tf=False,\n",
       "                                 token...\n",
       "                 LGBMClassifier(boosting_type='gbdt', class_weight=None,\n",
       "                                colsample_bytree=1.0, importance_type='split',\n",
       "                                learning_rate=0.1, max_depth=-1,\n",
       "                                min_child_samples=20, min_child_weight=0.001,\n",
       "                                min_split_gain=0.0, n_estimators=100, n_jobs=-1,\n",
       "                                num_leaves=31, objective=None,\n",
       "                                random_state=1610, reg_alpha=0.0,\n",
       "                                reg_lambda=0.0, silent=True, subsample=1.0,\n",
       "                                subsample_for_bin=200000, subsample_freq=0))],\n",
       "         verbose=False)"
      ]
     },
     "execution_count": 53,
     "metadata": {},
     "output_type": "execute_result"
    }
   ],
   "source": [
    "# fit best model-to-date\n",
    "lgbm_char.fit(X_train, y_train)"
   ]
  },
  {
   "cell_type": "markdown",
   "metadata": {},
   "source": [
    "## Model Evaluation"
   ]
  },
  {
   "cell_type": "code",
   "execution_count": 22,
   "metadata": {},
   "outputs": [],
   "source": [
    "import matplotlib.pyplot as plt\n",
    "%matplotlib inline\n",
    "from sklearn.metrics import plot_confusion_matrix"
   ]
  },
  {
   "cell_type": "markdown",
   "metadata": {},
   "source": [
    "## Feature Importances"
   ]
  },
  {
   "cell_type": "markdown",
   "metadata": {},
   "source": [
    "### Word Tokens Classifier"
   ]
  },
  {
   "cell_type": "markdown",
   "metadata": {},
   "source": [
    "The text generator mentions 'strip' too much, and also uses other parts of speech at different frequencies than human written reviews. The text generator is a character-level model, and an avenue of future attack would be to build a word-level model."
   ]
  },
  {
   "cell_type": "code",
   "execution_count": 48,
   "metadata": {},
   "outputs": [],
   "source": [
    "vectorizer = TfidfVectorizer()\n",
    "vectorizer.fit_transform(X_train)\n",
    "features = vectorizer.get_feature_names()"
   ]
  },
  {
   "cell_type": "code",
   "execution_count": 51,
   "metadata": {},
   "outputs": [
    {
     "data": {
      "image/png": "[encoded data removed]",
      "text/plain": [
       "<Figure size 432x288 with 1 Axes>"
      ]
     },
     "metadata": {
      "needs_background": "light"
     },
     "output_type": "display_data"
    }
   ],
   "source": [
    "n = 10 # number of features to plot\n",
    "importances = np.sort(lgbm['lgbmclassifier'].feature_importances_)[-n:][::-1]\n",
    "labels = np.array(features)[np.argsort(lgbm['lgbmclassifier'].feature_importances_)[-n:][::-1]]\n",
    "\n",
    "# sns.set(font_scale=2)\n",
    "fig, ax = plt.subplots(tight_layout=True)\n",
    "ax.bar(range(n), importances[:n], color=\"k\", alpha=0.5)\n",
    "\n",
    "ax.set(title=\"Feature Importances\\n(Gradient Boosted Classifier)\")\n",
    "plt.xticks(range(n), labels, rotation=45)\n",
    "# plt.grid(axis='x')\n",
    "# plt.savefig('images/lightgbm_features.png')\n",
    "plt.show()"
   ]
  },
  {
   "cell_type": "markdown",
   "metadata": {},
   "source": [
    "## Confusion Matrices"
   ]
  },
  {
   "cell_type": "code",
   "execution_count": 46,
   "metadata": {},
   "outputs": [
    {
     "data": {
      "image/png": "[encoded data removed]",
      "text/plain": [
       "<Figure size 432x288 with 2 Axes>"
      ]
     },
     "metadata": {
      "needs_background": "light"
     },
     "output_type": "display_data"
    }
   ],
   "source": [
    "fig, axes = plt.subplots(1, 2)\n",
    "plot_confusion_matrix(lgbm, X_train, y_train, normalize='pred', values_format='.3f', cmap='Blues', ax=axes[0])\n",
    "axes[0].images[0].colorbar.remove()\n",
    "axes[0].set_title('Training Set')\n",
    "\n",
    "plot_confusion_matrix(lgbm, X_test, y_test, normalize='pred', values_format='.3f', cmap='Blues', ax=axes[1])\n",
    "axes[1].images[0].colorbar.remove()\n",
    "axes[1].set_title('Testing Set')\n",
    "plt.show()"
   ]
  },
  {
   "cell_type": "markdown",
   "metadata": {},
   "source": [
    "## Misclassified Examples"
   ]
  },
  {
   "cell_type": "code",
   "execution_count": 77,
   "metadata": {},
   "outputs": [],
   "source": [
    "y_pred = lgbm.predict(X_train)\n",
    "y_pred_proba = lgbm.predict_proba(X_train)"
   ]
  },
  {
   "cell_type": "code",
   "execution_count": 78,
   "metadata": {},
   "outputs": [],
   "source": [
    "mis_class = pd.DataFrame(data={'text':X_train[y_pred != y_train], 'proba_fake': y_pred_proba[:, 1][y_pred != y_train]})"
   ]
  },
  {
   "cell_type": "markdown",
   "metadata": {},
   "source": [
    "Short fake reviews are misclassified as real."
   ]
  },
  {
   "cell_type": "code",
   "execution_count": 79,
   "metadata": {},
   "outputs": [
    {
     "name": "stdout",
     "output_type": "stream",
     "text": [
      "0.021143068081873405 Just kidding.\n",
      "0.028072491527566138 Yes.\n",
      "0.031878976021569826 I ordered the Braised Secret Garden ($14 per person) and a variety of woman just doesn't anyway there was no way I wanted it.\n",
      "0.032077940641588934 I did not even go into Dirty Developy Paris.\n",
      "0.032217272972411705 Thanks You.\n",
      "0.03383475209502083 Plus!\n",
      "0.034151235767262846 He has a better experience here.\n",
      "0.03465738511829811 You better than expected.\n",
      "0.03493828763622522 Whether you drive 5 Stars?\n",
      "0.03647734831229677 Thank you Philly cheese steak and basil filet cands.\n",
      "0.037424581117147096 Right off!\n",
      "0.037424581117147096 Remember Stratughter Filled Right Heart Attire.\n",
      "0.03758965775636319 Holy lionen the artsy, but I did not open my palate clients.\n",
      "0.03873134014244859 Then I arrived at San Francisco on Shark Tony (below), steam room, it is so polite and well cool hidden gem.\n",
      "0.0389807112069327 I'm higgling and let me tell you.\n",
      "0.039175906163404106 Yeah!\n",
      "0.039175906163404106 $28.89.\n",
      "0.039175906163404106 Very respectful w/                                                                                                                      $7.99.\n",
      "0.039175906163404106 Perfection!!\n",
      "0.039175906163404106 prime ribeye  $12.50.\n",
      "0.039175906163404106 Flanking interaction.\n",
      "0.039175906163404106 Dr.\n",
      "0.039175906163404106 5/5\r\n",
      "\r\n",
      "Carnivora: http://www.yelp.com/user_local_photos?select=UpFHv1R3vRRw1w-yA\r\n",
      "1.\n",
      "0.039175906163404106 Calamari & Apple craised Separate Float\r\n",
      "3.\n",
      "0.039175906163404106 Highly recommended.\n",
      "0.039175906163404106 Rated: 3/5\r\n",
      "\r\n",
      "                                                                                            $188\r\n",
      "\r\n",
      "3.\n",
      "0.039175906163404106 Sex Marking Massage Spanding.\n",
      "0.039175906163404106 Long Starbucks, Bonz!\n",
      "0.039175906163404106 Every bite.\n",
      "0.039175906163404106 Boy!\n",
      "0.039175906163404106 OKay tacos clean.\n",
      "0.039175906163404106 Awesome!\n",
      "0.039175906163404106 Dr.\n",
      "0.039175906163404106 I found that!\n",
      "0.039175906163404106 I once had a bad closet.\n",
      "0.039175906163404106 (http://www.yelp.com/biz_photos/guy-savoy-carb).\n",
      "0.039175906163404106 Collective).\n",
      "0.039175906163404106 I had a Canna Cotton ($7.95).\n",
      "0.039175906163404106 Now!\n",
      "0.039175906163404106 Sweet!\n",
      "0.039175906163404106 MARIC DACKS2 AMCILATELY addiction.\n",
      "0.039175906163404106 5.\n",
      "0.039175906163404106 Spread.\n",
      "0.039175906163404106 4.\n",
      "0.039175906163404106 Affordable Trump.\n",
      "0.039175906163404106 4.\n",
      "0.039175906163404106 Another concession.\n",
      "0.039175906163404106 Boy Hand Frank Foam!\n",
      "0.039175906163404106 Cheers!!\n",
      "0.039175906163404106 4.\n",
      "0.039175906163404106 I agree.\n",
      "0.039175906163404106 Under Pita beef rib eye.\n",
      "0.039175906163404106 Believe me?\n",
      "0.039175906163404106 Awesome!\n",
      "0.039175906163404106 I discovered this social masterpie sta top table.\n",
      "0.039175906163404106 Haha!\n",
      "0.039175906163404106 Trust Me.\n",
      "0.039175906163404106 Waynetsta deep fried.\n",
      "0.039175906163404106 4) Maine$772 - 4 people.\n",
      "0.039175906163404106 Outstanding.\n"
     ]
    }
   ],
   "source": [
    "# Fake comments misclassified as Real\n",
    "for row in range(60):\n",
    "    print(mis_class.sort_values(by='proba_fake').proba_fake.iloc[row], mis_class.sort_values(by='proba_fake').text.iloc[row])"
   ]
  },
  {
   "cell_type": "markdown",
   "metadata": {},
   "source": [
    "Real reviews mentioning the Las Vegas Strip, and reviews with generic compliments are misclassified as fake."
   ]
  },
  {
   "cell_type": "code",
   "execution_count": 81,
   "metadata": {
    "scrolled": true
   },
   "outputs": [
    {
     "name": "stdout",
     "output_type": "stream",
     "text": [
      "0.9591702699919589 We have been to the Mesa location a few times for dinner in the past; this restaurant is much more modern & spacious, and the staff is friendly and helpful.\n",
      "0.9539791615626874 The line was not too bad to be seated and we got an awesome table near the window where we can see people walking the strip.\n",
      "0.9461865715415659 It is the middle of the strip too!\n",
      "0.9459182926617251 Going to the strip is a nightmare most of the time.\n",
      "0.9449067878304684 The second; being to get that bet in on time, beer, and to the show!\n",
      "0.937757425537228 And the owners and staff are so nice and go out of their way to make sure your happy!\n",
      "0.9317257907710643 The salad section of the store on the other side of the store is where I was able to make my own salad.\n",
      "0.9303917363090093 The owners and the staff are all so friendly and helpful.\n",
      "0.9303252414450741 I will be back to try the rest of their menu and for the coffee.\n",
      "0.9279803547637252 The staff and owner were so incredibly warm and friendly.\n",
      "0.9244331987591371 It's nice of the company to provide fun and stylish seating to the little ones of the family, it makes them feel special too!\n",
      "0.9227390467566765 I was in the car and brought the documents that they needed to start the storage unit.\n",
      "0.9209860216920839 One of the most beautiful restauants that I have been in.....love the seats....love the sights of the strip!.\n",
      "0.9196394158159171 The prices are very reasonable compared to the Las Vegas Strip\n",
      "\n",
      "They have a better than awesome selection of the newest and best slots to play with!\n",
      "0.9142260318240394 Although the only down side is it is in fact not bigger on the inside, the store is quite small.\n",
      "0.9120777171965158 This place is super clean and the staff is incredibly friendly.\n",
      "0.9111946278109989 This is the BEST steakhouse off the strip.\n",
      "0.9101269024147128 That it's on the far south end of the strip.\n",
      "0.9088585380770547 The food is grilled fresh to order and also the sauce bar they have is very unique.\n",
      "0.9081546884138776 The food here is amazing and the staff was so nice.\n",
      "0.9067029539629791 I was able to stay and enjoy the water and light changes of the waterfall for the first time in six months.\n",
      "0.9054681128561017 The cups come in small size for $3 and the large is $5.\n",
      "0.9036478282459562 There are bigger tables throughout the restaurant, and still has the view of the strip.\n",
      "0.9033500418050548 They were all delicious, but I would have to say that the Chocolate Hazelnut was my favorite.\n",
      "0.9017728343103122 The NY Strip Steaks were one of the best that we have ever eaten!\n",
      "0.9013465163551129 Never have I been to a bar that has delivery this should say something about the quality of the food.\n",
      "0.8989812931172908 Small appetizer was the best...size was to die for.\n",
      "0.8983441675672781 The 'chicken' tasted amazing and the portion size was huge!\n",
      "0.8979650727392715 The service is very friendly and helpful.\n",
      "0.8975861650609509 This property is at the end of The Strip but there are many ways to get to The Strip with ease.\n",
      "0.8968172888108841 The office is in the center of the Medical Plaza and the parking is best on the North side of the parking lot, and then walk into the plaza, Suite A-130.\n",
      "0.89336061563275 The parking is fantastic, and free.\n",
      "0.89303038300157 The bed was super comfy, the tv that controlled everything in the room was really cool, the balcony view overlooking the strip was stunning.\n",
      "0.8923030275841662 If I go to the LV strip I make a day of it.\n",
      "0.8909611956748487 Is it my favorite place on The Strip for drinks?\n",
      "0.8907702751781637 And the food was good.\n",
      "0.8896496851053752 Not only was each dish of the chef menu was bold and exciting, the service matched and was incredibly fun and welcoming.\n",
      "0.8879122568370162 The store was big and bright and had tons of treats in the front cases.\n",
      "0.8877080457826915 It's in a great location, the establishment is stunning, the food and drinks are not only delicious, but they're also very creative and fresh, and the staff is well trained on fine dining service; plus, you get to watch a movie in deluxe comfort.\n",
      "0.8860350761996914 Service was real friendly and the energy of the establishment is warm and inviting.\n",
      "0.8847855742227455 The staff was super friendly when we went to pay for the bowling.\n",
      "0.8847184238574876 I wanted to share this private and beautiful moment to show the caring and compassionate loving people that exist outside of the strip.\n",
      "0.8841813202882665 I highly recommend you come & catch a performance of one of the greatest shows on The Strip!\n",
      "0.8839855688881932 The staff here are so friendly and helpful.\n",
      "0.883516455592981 The staff is very professional, the store was so organized and clean.\n",
      "0.8813685328218734 The main attraction to this restaurant is the view, and there is a table for two all along the window, so you will get an awesome view of the Bellagio fountains and the strip.\n",
      "0.8805495325930786 I love the energy  and music  and the  crowd and staff tonight.\n",
      "0.879292393293336 It's brightly lit, decor is modern, the staff is super friendly and informative, and the eats are clean!\n",
      "0.8781453153073063 The fruit is fresh and so delicious.\n",
      "0.8777836107228639 Now the most important part of the visit to a bar for me is the \"bar food.\"\n",
      "0.8766913706880572 THE STORY & SERVICE EXPERIENCE\n",
      "\n",
      "I have to be honest - as soon as I saw the name, I wanted the place to be adorable, and it was.\n",
      "0.8755396961974837 The location is great for the strip access to the main parts of the strip.We went and saw Cirque de Soleil's \"O\" at the Bellagio and it was a nice easy and quick walk and it even gets better.\n",
      "0.8750962999697757 The one thing I do recommend is the sides are big enough to share for two.\n",
      "0.8748664091574591 For many years, I would walk by and hope that I could get a table on the Terrace and watch the action on the Strip.\n",
      "0.8743827573873573 The prices are reasonable and the service was very friendly.\n",
      "0.8739302372246412 Food is pretty good in the cafeteria and the prices are great.\n",
      "0.8733413866141678 The air show is usually in November and FREE to the public!\n",
      "0.8720639872430627 Granted, they don't have the same footprint as the Big 3 if you are outside of the cities.\n",
      "0.8714234782192574 This was incredibly delicious!\n",
      "0.8713333926965224 It had a winning combination of sweet and sour, and the chicken was nice and juicy.\n"
     ]
    }
   ],
   "source": [
    "# Real comments misclassified as Fake\n",
    "for row in range(60):\n",
    "    print(mis_class.sort_values(by='proba_fake', ascending=False).proba_fake.iloc[row], mis_class.sort_values(by='proba_fake', ascending=False).text.iloc[row])"
   ]
  },
  {
   "cell_type": "markdown",
   "metadata": {},
   "source": [
    "### Char Tokens Classifier"
   ]
  },
  {
   "cell_type": "code",
   "execution_count": 54,
   "metadata": {},
   "outputs": [],
   "source": [
    "vectorizer = TfidfVectorizer(analyzer='char')\n",
    "vectorizer.fit_transform(X_train)\n",
    "features = vectorizer.get_feature_names()"
   ]
  },
  {
   "cell_type": "code",
   "execution_count": 60,
   "metadata": {},
   "outputs": [
    {
     "data": {
      "image/png": "[encoded data removed]",
      "text/plain": [
       "<Figure size 432x288 with 1 Axes>"
      ]
     },
     "metadata": {
      "needs_background": "light"
     },
     "output_type": "display_data"
    }
   ],
   "source": [
    "n = 10 # number of features to plot\n",
    "importances = np.sort(lgbm_char['lgbmclassifier'].feature_importances_)[-n:][::-1]\n",
    "labels = np.array(features)[np.argsort(lgbm_char['lgbmclassifier'].feature_importances_)[-n:][::-1]]\n",
    "\n",
    "# sns.set(font_scale=2)\n",
    "fig, ax = plt.subplots(tight_layout=True)\n",
    "ax.bar(range(n), importances[:n], color=\"k\", alpha=0.5)\n",
    "\n",
    "ax.set(title=\"Feature Importances\\n(Gradient Boosted Classifier)\")\n",
    "plt.xticks(range(n), labels, rotation=45)\n",
    "# plt.grid(axis='x')\n",
    "# plt.savefig('images/lightgbm_features.png')\n",
    "plt.show()"
   ]
  },
  {
   "cell_type": "markdown",
   "metadata": {},
   "source": [
    "## Confusion Matrices"
   ]
  },
  {
   "cell_type": "code",
   "execution_count": 61,
   "metadata": {},
   "outputs": [
    {
     "data": {
      "image/png": "[encoded data removed]",
      "text/plain": [
       "<Figure size 432x288 with 2 Axes>"
      ]
     },
     "metadata": {
      "needs_background": "light"
     },
     "output_type": "display_data"
    }
   ],
   "source": [
    "fig, axes = plt.subplots(1, 2)\n",
    "plot_confusion_matrix(lgbm_char, X_train, y_train, normalize='pred', values_format='.3f', cmap='Blues', ax=axes[0])\n",
    "axes[0].images[0].colorbar.remove()\n",
    "axes[0].set_title('Training Set')\n",
    "\n",
    "plot_confusion_matrix(lgbm_char, X_test, y_test, normalize='pred', values_format='.3f', cmap='Blues', ax=axes[1])\n",
    "axes[1].images[0].colorbar.remove()\n",
    "axes[1].set_title('Testing Set')\n",
    "plt.show()"
   ]
  },
  {
   "cell_type": "markdown",
   "metadata": {},
   "source": [
    "## Misclassified Examples"
   ]
  },
  {
   "cell_type": "code",
   "execution_count": 82,
   "metadata": {},
   "outputs": [],
   "source": [
    "y_pred = lgbm_char.predict(X_train)\n",
    "y_pred_proba = lgbm_char.predict_proba(X_train)"
   ]
  },
  {
   "cell_type": "code",
   "execution_count": 83,
   "metadata": {},
   "outputs": [],
   "source": [
    "mis_class = pd.DataFrame(data={'text':X_train[y_pred != y_train], 'proba_fake': y_pred_proba[:, 1][y_pred != y_train]})"
   ]
  },
  {
   "cell_type": "code",
   "execution_count": 84,
   "metadata": {},
   "outputs": [
    {
     "name": "stdout",
     "output_type": "stream",
     "text": [
      "0.03565087126090225 The service here is brand named Alawa, Marie Mb Memorial Food Katsu 5pric Postery Consultation, Enjoy!\n",
      "0.037229268941481736 (see pics)\n",
      "\n",
      "Indian Lamb & Chocolate, Style, Tomatoes, Salmon Roll - Golden Cuin, Carne Asada burger and College Steak!\n",
      "0.0395643194277677 \"Mr. Boom was \"marina\" that is so beautiful!\n",
      "0.04507031153339714 Creative Monta, Bone Roll - have any details (sitting activity) since they included my team.\n",
      "0.04605487191203035 I could have been popular re-some drinks, there was a warm little chicken.\n",
      "0.04741249316935974 On top of the inspire flavors ------ Bonus!\n",
      "0.04757168250397865 Anyways, \"Can't be my goalie in pricey?\n",
      "0.047753546040860295 La to get caught in the day of carbs, College, Salad Latthhaut, and just the right amount.\n",
      "0.049216590425252275 Long Starbucks, Bonz!\n",
      "0.05189039337686737 I was impressed with the drink, so I was bookmarked -- closer to the watering charge.\n",
      "0.05209412229071067 I would like to thank you Sunday  Beef, Cinnamon Roll, Chocolate Crispy Halloween fries.........I would say it the real seat is so much to be!\n",
      "0.05473344507664692 Seriously, if you're not a big deal.\n",
      "0.05478473718880318 The menu is super quick and knowledgeable, high quality of flavors, tender thin normal customer service.\n",
      "0.05846304785908593 What to get: A Sunday Brunch (20)  Christmas novelty), and we all still have a lot of choices.\n",
      "0.0593068487621656 5.\n",
      "0.059671140663851034 I really love the Soup To Go TICK, RAV!!!!\n",
      "0.060267185445918095 However, I have now anyone would saw the same thing, this one does have to a great evening, our server, Moonshie, Brandon and Portuguese sandwich.\n",
      "0.060953048350977555 I'll have to wait in line for 10-15 minutes.\n",
      "0.06181000399086816 Calamari & Apple craised Separate Float\n",
      "3.\n",
      "0.06269965778056916 They got the same long around the Starbucks and Terrible for the \"Americanize\" pizza alone, don't come back again.\n",
      "0.06335684063350035 Fresh at 6-2 and they started the menu and our exceptional service and containers were highly safe.\n",
      "0.0636330815982756 As I walked in, I called the Yelp check-in on a wrap of wasabi at a 10-15 minutes.\n",
      "0.06365887565308252 It was also a group of veggies, cucumber, and onions and garlic sauce.\n",
      "0.06444384098457008 I didn't really love the blueberry jack cheese, salted caramel sauce & tasteful.\n",
      "0.0652409057464823 Yeah!\n",
      "0.06530984612682941 It's a great mix of chili, meat salad.\n",
      "0.06642503811189293 3.\n",
      "0.06724548533474276 Haha!\n",
      "0.067443274926158 Plus!\n",
      "0.06770501195055237 The Korean restaurant is very reached by the 2-star review booth closing.\n",
      "0.06901163999509827 They also have a delicious cookies, tables, cookies, fried green tea!\n",
      "0.06948092693757232 I told my issues, she said, \"I'll take the time there.\n",
      "0.07210976276031587 For those who doubt, why not?\n",
      "0.07243411131517508 Finally, a delicious meal!\n",
      "0.0724902955444543 Unlike other property playing?\n",
      "0.07457606590193017 Highly recommended.\n",
      "0.07487357340172958 Excellent!\n",
      "0.07533461548268394 Until next time I've ever had, but I opted for a quick service.\n",
      "0.0754109120122222 Also, if you don't know what you want?\n",
      "0.07554091657038464 I've been the first time I do, their special informational and amazing smoked bacon and burritos.\n",
      "0.07566835199970974 Portuguese restaurant reminds me, to make my daught meal program.\n",
      "0.07570741803035926 The servers are very professional and professional and exceeded me to replace my shoe run, Bones & System, I don't like myself to be excellent.\n",
      "0.07619598717404721 5 stars.\n",
      "0.07643873467797706 Our server, Organic Restaurant.\n",
      "0.07663021949424711 We have a complimentary steak fries, good variety, and beautifully presented.\n",
      "0.07683445662568497 Basil, students, and the staff, knowledgeable, and compassionate.\n",
      "0.07683970248921797 No problem.\n",
      "0.07806503516114323 If you are looking for some tea; and try this on me!\n",
      "0.07807157664918475 Free shake!\n",
      "0.0784749351718811 For all things you walk in, look no further.\n",
      "0.07864689630274595 It's really easy to come over to a-purly free drink.\n",
      "0.07914345610395425 Like a booth, and they're still built.\n",
      "0.07934080503043604 I'm looking for sure.\n",
      "0.07934567234479449 The bar stays - Fairy ~$15 free ice crowd\n",
      "\n",
      "Skinnylicious and service was good.\n",
      "0.07996675531179626 Fresh tomatoes, and a friendly energy block.\n",
      "0.07998177661720288 They have that salad, being a sublime show that labover that you can!\n",
      "0.08028861596437978 The parking is great too small, my favorite are excellent!\n",
      "0.08135793583323725 #Ho-Air-Dinner (and staff) is really good.\n",
      "0.08181180100663354 Most of the owner Jalapeño cheese, chicken rice and a mountain.\"\n",
      "0.08197576361890264 For the sound team, every penny!\n"
     ]
    }
   ],
   "source": [
    "# Fake comments misclassified as Real\n",
    "for row in range(60):\n",
    "    print(mis_class.sort_values(by='proba_fake').proba_fake.iloc[row], mis_class.sort_values(by='proba_fake').text.iloc[row])"
   ]
  },
  {
   "cell_type": "code",
   "execution_count": 85,
   "metadata": {
    "scrolled": true
   },
   "outputs": [
    {
     "name": "stdout",
     "output_type": "stream",
     "text": [
      "0.949482232565628 Knowing that it is critical I get in ASAP to the doctor I selected this office due to the fact they are open 7 days a week.\n",
      "0.9490112927553236 Pizza is one of those things I personally feel that is best shared with family and friends, but Giordano's offers their famous deep dish pizzas in different sizes making it perfect for the times you want to make memories around a pie with people and perfect for the times you just want to have a pizza moment to yourself lol.\n",
      "0.9432032686315165 This property is at the end of The Strip but there are many ways to get to The Strip with ease.\n",
      "0.9399132921684112 We even had the chance to talk to the chef and get a couple of top secret tips that she uses in her recipes.\n",
      "0.9383765628879615 They are definitely one of the more honest shops out there and I will definitely recommend this place to my friends and peers as one of the go to shops in Mississauga.\n",
      "0.9376144604950927 I love having the option to go in and out as I please and I truly feel like that is one of the best things about XS that has it maintaining its' reputation as one of the top clubs in Vegas even as other clubs like Marquee and Tao has slipped the test of time.\n",
      "0.9354100246877395 I had such a great time at TopGolf that I even texted a few friends and family to get their butts here as soon as possible.\n",
      "0.9347598683959305 The one treat we did not sample this trip was the cake pops the variety that they offer is so diverse when we visited.\n",
      "0.9343408217329747 Going to step out on a limb and say this was some of the best fish we have had in the PHX area and the prices were very reasonable as well.\n",
      "0.9342095366374722 Soup of the day was Lamb Noodle but my wife went with the Standard French Onion Soup\n",
      "\n",
      "Rather than entree, she ordered a Fall Salad which was full of berries and nuts characteristic of the fall all on a bed of Arugula and other mixed greens with a Balsamic Dressing\n",
      "\n",
      "The Frittata of the day was a lamb Frittata with Feta Cheese and other goodies.\n",
      "0.9341438585036428 The Fritto Misto was excellent as well and one of the best seafood presentations in both in terms of taste and texture I had in a good while.\n",
      "0.9341325552741102 I am a sucker for Burrata cheese as it is one of my favorites and with the savory goodness of the bacon and combined with the arugula and tomato this was a winner in my book.\n",
      "0.932723399395816 I was cheap the first time I saw it and purchased nose bleed seats.\n",
      "0.9308382502454587 I came here with a group of friends not too long after they first opened and we shared the Chicago Classic, Fresh Spinach Deep Dish and one of their thin crust pizzas along with the House Salad and everyone was pleased.\n",
      "0.9267802166632655 This is a fun stop for the whole family and as I mentioned there is a paved road to the VC.\n",
      "0.9248590096940691 It was empty at the time so the owner and the waitress were able to give us most of their time.\n",
      "0.9220843179573476 The prices here are phenomenal and since the store was so busy was not able to ask if this was a retail price or warehouse type pricing .\n",
      "0.9196604714942537 I still woe and coo over the images that they draw in my espresso drinks, but I am not sure how they make those images last to the last drop.\n",
      "0.9192061800534873 Come stay at the El Cortez and become part of the hotels ledger and add your story to this relic that has been erect for over 7 decades.\n",
      "0.9190558283213989 They are also sensitive to the fact that I hate eye exams as much as dental work and have always been patient with me ( I hate the machines, the lights, and the puffer with a passion ) I have had in the past at an optometrist a tech get upset with me because I couldn't handle being in the device and they tried to hold my head in place.\n",
      "0.9171667754764959 The whole premise is that the food is bad for you.\n",
      "0.9151725182164905 This past months ive been having problems with some allergies reactions so when i told that to the crew of Secret pizza they inmediately contAct the person who knew more about the ingredients , i was blown away with such an amazing service i wish i could remember their names but this people work so hard to make you happy .\n",
      "0.9139635622712569 I was blessed with front row seats and a VIP pass for a meet and greet with the artist himself.\n",
      "0.9129783667639251 I have wanted to try this place the last couple of times that I have been to the Aria Hotel, but I just did not have the time to stop and get a few things.\n",
      "0.911908277502877 I was hesitant to try this place at first because of the mixed reviews, but am so glad that I did give them a try because the chicken sandwiches here are legit.\n",
      "0.9113938227964662 I needed to shorten the dresses by a lot and Habib made sure I was comfortable with the length by pinning the dress at several different lengths to give me an idea about how it would look.\n",
      "0.9111026694269669 The spicy tuna is to die for and the rice is perfectly sticky.\n",
      "0.9098468531499035 I chose the Key Lime Pie as my dessert as this is a favorite dessert of mine and this did not disappoint.\n",
      "0.9096253982191596 I was already on edge since this is supposed to be the doctor that will at least have some answers for me.\n",
      "0.9092311695603865 I met up with some friends here at Toddy Shop.\n",
      "0.9086466878306972 So this place was not on the top of my list.\n",
      "0.9077457113887697 Rolex at The Wynn was where I felt the need to splurge and treat myself to one of the finest time pieces on the planet.\n",
      "0.9073184425642244 Deciding it was a great day to lounge by the pool here at the Linq the memory of this restaurant and the fact I was drunk are my reasons for visiting.\n",
      "0.9068645742750949 I had driven by this spot a few times, but only just noticed it a few weeks ago and decided to stop by and check it out while I was in the shopping center.\n",
      "0.9066977713021468 If it is a type a wood that you are seeking this is where to find it.\n",
      "0.9062245625182977 He is a doctor on top of things for sure.\n",
      "0.905481495631542 I recently purchased a new home and did not like any of the flooring options they gave me so I had to get new floors installed after the house was complete.\n",
      "0.9039732722700682 The Doctor Behzad Ghazi was so patient, he took all the time to show me what the possible breeds of my dig are and also that why he sometimes has short breath problems.\n",
      "0.9037978145459176 I was told that the President of the global organization donated some of his personal money to cover much of the costs of construction because he felt the Las Vegas area was a crucial place to have a presence.\n",
      "0.9036996622474178 There are so many fresh choices that one can choose to put on top of their salad.\n",
      "0.9030537296580161 The stewed tomatoes were perfection and the provolone was so mild it was almost unnoticeable except it added a nice amount of extra crispiness to the edges of the pizza that was so good.\n",
      "0.9016417966742528 I even had an issue where I had a small gap in my lashes and she spent extra time and care to make sure that was filled in.\n",
      "0.900694759111679 There are a few spots to sit by the wall and on bar stools.\n",
      "0.900451348678721 This salad comes with balsamic vinaigrette, but you can choose a different dressing like it did by asking for ranch and I did ask for tomatoes to be added which was no problem and they didn't even charge me extra which is nice since a lot of places do.\n",
      "0.8998989060770218 The best way to avoid the chaos is to arrive before they open.\n",
      "0.8996365279910629 As the hostess walked us to our seat I was given the choice of a few different seating options.\n",
      "0.8981928447557642 The visit here was an experience it is something that puts a smile on my face ear to ear too.\n",
      "0.8978311004784099 My favorite part of the movie was when the Rock threw a harpoon at this large eel and it seems to come directly into the audience.\n",
      "0.8975297059051227 Both on the top of the ice cream and on the top of the whip.\n",
      "0.8966487767951985 I didn't stop for any of this because I had to get to the next poker room.\n",
      "0.8961258385688919 So I noticed that a review hasnt been done yet with this biz so I figured I would share our experience and be the first.\n",
      "0.8959159322081686 I ran into this shop on my way to eat dinner with my sisters.\n",
      "0.8956960154206931 While most of the reviews rating this place lower than 4 stars are due to the wait (it's a very busy place) or to complain that the $0.18 they paid for their taco was too expensive, there are more than a few that attack the quality or authenticity of the food here.\n",
      "0.8955143695262202 Among great friends it is fine since we split the check six ways and with a tip which they did add in.\n",
      "0.8955035684002333 It is structured in a way to report on the services that one has received or is in the process of partaking of said activities.\n",
      "0.8946804840949553 The rice and beans that came on the side with the tacos was spiced properly and something we enjoyed at home.\n",
      "0.8940373067199324 To write this review while I am starving is dangerous because I am tempted to eat my screen to see if I can perhaps capture just a drop of the deliciousness contained in the chicken gyro at The Great Greek.\n",
      "0.89387118330295 It was so good that I distracted someone in my party to steal a bite after I was done with mine.\n",
      "0.8931383603807068 You can have coleslaw on the side or on the sandwich and you can choose either mild or spicy bbq sauce on the side or on the sandwich.\n",
      "0.892205989313758 The rib eye was one of the best I ever had.\n"
     ]
    }
   ],
   "source": [
    "# Real comments misclassified as Fake\n",
    "for row in range(60):\n",
    "    print(mis_class.sort_values(by='proba_fake', ascending=False).proba_fake.iloc[row], mis_class.sort_values(by='proba_fake', ascending=False).text.iloc[row])"
   ]
  },
  {
   "cell_type": "markdown",
   "metadata": {},
   "source": [
    "# Next Steps"
   ]
  },
  {
   "cell_type": "markdown",
   "metadata": {},
   "source": [
    "I will need a better text generating model. "
   ]
  }
 ],
 "metadata": {
  "kernelspec": {
   "display_name": "Python 3",
   "language": "python",
   "name": "python3"
  },
  "language_info": {
   "codemirror_mode": {
    "name": "ipython",
    "version": 3
   },
   "file_extension": ".py",
   "mimetype": "text/x-python",
   "name": "python",
   "nbconvert_exporter": "python",
   "pygments_lexer": "ipython3",
   "version": "3.7.6"
  }
 },
 "nbformat": 4,
 "nbformat_minor": 4
}
