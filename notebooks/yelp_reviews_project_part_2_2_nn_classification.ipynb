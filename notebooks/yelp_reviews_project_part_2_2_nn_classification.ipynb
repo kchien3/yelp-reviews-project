{
 "cells": [
  {
   "cell_type": "code",
   "execution_count": 1,
   "metadata": {},
   "outputs": [],
   "source": [
    "import pandas as pd\n",
    "import tensorflow as tf\n",
    "import tensorflow_hub as hub"
   ]
  },
  {
   "cell_type": "markdown",
   "metadata": {},
   "source": [
    "#### Don't copy code, make a function!!"
   ]
  },
  {
   "cell_type": "code",
   "execution_count": 2,
   "metadata": {},
   "outputs": [],
   "source": [
    "def pd_to_tf(dataframe):\n",
    "    return tf.data.Dataset.from_tensor_slices((tf.cast(dataframe['text'].values, tf.string), tf.cast(dataframe['fake'].values, tf.int32)))"
   ]
  },
  {
   "cell_type": "markdown",
   "metadata": {},
   "source": [
    "# Train/Val/Test Split"
   ]
  },
  {
   "cell_type": "code",
   "execution_count": 3,
   "metadata": {},
   "outputs": [],
   "source": [
    "# load data from json\n",
    "df = pd.read_json('../data/classification.json', lines=True).drop('index', axis=1)\n",
    "\n",
    "# shuffle rows\n",
    "df = df.sample(frac=1, random_state=1816)\n",
    "\n",
    "# manual train/val-test split\n",
    "# training set\n",
    "df_train = df.iloc[:int(df.shape[0]*.9)]\n",
    "# training fold of training set\n",
    "df_train = df_train.iloc[:int(df_train.shape[0]*.9)]\n",
    "# validation fold of training set\n",
    "df_val = df_train.iloc[int(df_train.shape[0]*.9):]\n",
    "# test set\n",
    "df_test = df.iloc[int(df.shape[0]*.9):]"
   ]
  },
  {
   "cell_type": "markdown",
   "metadata": {},
   "source": [
    "## Convert pandas.DataFrame to tensorflow.Dataset"
   ]
  },
  {
   "cell_type": "code",
   "execution_count": 4,
   "metadata": {},
   "outputs": [],
   "source": [
    "train_data = pd_to_tf(df_train)\n",
    "validation_data = pd_to_tf(df_val)\n",
    "test_data = pd_to_tf(df_test)"
   ]
  },
  {
   "cell_type": "code",
   "execution_count": 20,
   "metadata": {},
   "outputs": [],
   "source": [
    "embedding = 'https://tfhub.dev/google/tf2-preview/gnews-swivel-20dim/1'\n",
    "embedding = 'https://tfhub.dev/google/tf2-preview/gnews-swivel-20dim-with-oov/1'\n",
    "embedding = 'https://tfhub.dev/google/tf2-preview/nnlm-en-dim50/1'"
   ]
  },
  {
   "cell_type": "code",
   "execution_count": 21,
   "metadata": {},
   "outputs": [],
   "source": [
    "hub_layer = hub.KerasLayer(embedding, input_shape=[], dtype=tf.string, trainable=True)"
   ]
  },
  {
   "cell_type": "code",
   "execution_count": 22,
   "metadata": {},
   "outputs": [],
   "source": [
    "model = tf.keras.Sequential([hub_layer, tf.keras.layers.Dense(16, activation='relu'), tf.keras.layers.Dense(1)])"
   ]
  },
  {
   "cell_type": "code",
   "execution_count": 23,
   "metadata": {},
   "outputs": [
    {
     "name": "stdout",
     "output_type": "stream",
     "text": [
      "Model: \"sequential_2\"\n",
      "_________________________________________________________________\n",
      "Layer (type)                 Output Shape              Param #   \n",
      "=================================================================\n",
      "keras_layer_2 (KerasLayer)   (None, 50)                48190600  \n",
      "_________________________________________________________________\n",
      "dense_4 (Dense)              (None, 16)                816       \n",
      "_________________________________________________________________\n",
      "dense_5 (Dense)              (None, 1)                 17        \n",
      "=================================================================\n",
      "Total params: 48,191,433\n",
      "Trainable params: 48,191,433\n",
      "Non-trainable params: 0\n",
      "_________________________________________________________________\n"
     ]
    }
   ],
   "source": [
    "model.summary()"
   ]
  },
  {
   "cell_type": "code",
   "execution_count": 24,
   "metadata": {},
   "outputs": [],
   "source": [
    "model.compile(optimizer='adam',\n",
    "              loss=tf.keras.losses.BinaryCrossentropy(from_logits=True),\n",
    "              metrics=['accuracy'])"
   ]
  },
  {
   "cell_type": "code",
   "execution_count": 18,
   "metadata": {},
   "outputs": [
    {
     "name": "stdout",
     "output_type": "stream",
     "text": [
      "Train for 95 steps, validate for 10 steps\n",
      "Epoch 1/20\n",
      "95/95 [==============================] - 2s 23ms/step - loss: 0.6693 - accuracy: 0.5871 - val_loss: 0.5567 - val_accuracy: 0.7057\n",
      "Epoch 2/20\n",
      "95/95 [==============================] - 1s 15ms/step - loss: 0.4968 - accuracy: 0.7483 - val_loss: 0.4298 - val_accuracy: 0.7945\n",
      "Epoch 3/20\n",
      "95/95 [==============================] - 1s 15ms/step - loss: 0.3933 - accuracy: 0.8203 - val_loss: 0.3504 - val_accuracy: 0.8462\n",
      "Epoch 4/20\n",
      "95/95 [==============================] - 1s 15ms/step - loss: 0.3341 - accuracy: 0.8510 - val_loss: 0.3058 - val_accuracy: 0.8684\n",
      "Epoch 5/20\n",
      "95/95 [==============================] - 1s 15ms/step - loss: 0.2998 - accuracy: 0.8680 - val_loss: 0.2785 - val_accuracy: 0.8826\n",
      "Epoch 6/20\n",
      "95/95 [==============================] - 1s 15ms/step - loss: 0.2772 - accuracy: 0.8787 - val_loss: 0.2585 - val_accuracy: 0.8878\n",
      "Epoch 7/20\n",
      "95/95 [==============================] - 1s 15ms/step - loss: 0.2608 - accuracy: 0.8863 - val_loss: 0.2446 - val_accuracy: 0.8954\n",
      "Epoch 8/20\n",
      "95/95 [==============================] - ETA: 0s - loss: 0.2486 - accuracy: 0.89 - 1s 15ms/step - loss: 0.2486 - accuracy: 0.8914 - val_loss: 0.2333 - val_accuracy: 0.9018\n",
      "Epoch 9/20\n",
      "95/95 [==============================] - 1s 15ms/step - loss: 0.2385 - accuracy: 0.8957 - val_loss: 0.2251 - val_accuracy: 0.9022\n",
      "Epoch 10/20\n",
      "95/95 [==============================] - 1s 15ms/step - loss: 0.2305 - accuracy: 0.8990 - val_loss: 0.2180 - val_accuracy: 0.9047\n",
      "Epoch 11/20\n",
      "95/95 [==============================] - 1s 15ms/step - loss: 0.2234 - accuracy: 0.9031 - val_loss: 0.2104 - val_accuracy: 0.9125\n",
      "Epoch 12/20\n",
      "95/95 [==============================] - 1s 15ms/step - loss: 0.2169 - accuracy: 0.9064 - val_loss: 0.2047 - val_accuracy: 0.9131\n",
      "Epoch 13/20\n",
      "95/95 [==============================] - 1s 15ms/step - loss: 0.2115 - accuracy: 0.9084 - val_loss: 0.1997 - val_accuracy: 0.9197\n",
      "Epoch 14/20\n",
      "95/95 [==============================] - 1s 15ms/step - loss: 0.2063 - accuracy: 0.9110 - val_loss: 0.1949 - val_accuracy: 0.9203\n",
      "Epoch 15/20\n",
      "95/95 [==============================] - 1s 15ms/step - loss: 0.2017 - accuracy: 0.9128 - val_loss: 0.1905 - val_accuracy: 0.9199\n",
      "Epoch 16/20\n",
      "95/95 [==============================] - 1s 15ms/step - loss: 0.1973 - accuracy: 0.9156 - val_loss: 0.1862 - val_accuracy: 0.9244\n",
      "Epoch 17/20\n",
      "95/95 [==============================] - 1s 15ms/step - loss: 0.1932 - accuracy: 0.9166 - val_loss: 0.1824 - val_accuracy: 0.9277\n",
      "Epoch 18/20\n",
      "95/95 [==============================] - 1s 15ms/step - loss: 0.1902 - accuracy: 0.9183 - val_loss: 0.1786 - val_accuracy: 0.9269\n",
      "Epoch 19/20\n",
      "95/95 [==============================] - 1s 15ms/step - loss: 0.1863 - accuracy: 0.9205 - val_loss: 0.1754 - val_accuracy: 0.9304\n",
      "Epoch 20/20\n",
      "95/95 [==============================] - 1s 15ms/step - loss: 0.1828 - accuracy: 0.9219 - val_loss: 0.1731 - val_accuracy: 0.9275\n"
     ]
    }
   ],
   "source": [
    "history = model.fit(train_data.shuffle(10000).batch(512),\n",
    "                    epochs=20,\n",
    "                    validation_data=validation_data.batch(512),\n",
    "                    verbose=1)"
   ]
  },
  {
   "cell_type": "markdown",
   "metadata": {},
   "source": [
    "gnews-swivel-20dim/1"
   ]
  },
  {
   "cell_type": "markdown",
   "metadata": {},
   "source": [
    "Train for 95 steps, validate for 10 steps\n",
    "Epoch 1/20\n",
    "95/95 [==============================] - 3s 35ms/step - loss: 0.6591 - accuracy: 0.5925 - val_loss: 0.5575 - val_accuracy: 0.6907\n",
    "Epoch 2/20\n",
    "95/95 [==============================] - 1s 15ms/step - loss: 0.4910 - accuracy: 0.7546 - val_loss: 0.4238 - val_accuracy: 0.8021\n",
    "Epoch 3/20\n",
    "95/95 [==============================] - 1s 15ms/step - loss: 0.3897 - accuracy: 0.8220 - val_loss: 0.3516 - val_accuracy: 0.8433\n",
    "Epoch 4/20\n",
    "95/95 [==============================] - 1s 15ms/step - loss: 0.3370 - accuracy: 0.8500 - val_loss: 0.3131 - val_accuracy: 0.8587\n",
    "Epoch 5/20\n",
    "95/95 [==============================] - 1s 15ms/step - loss: 0.3060 - accuracy: 0.8647 - val_loss: 0.2878 - val_accuracy: 0.8793\n",
    "Epoch 6/20\n",
    "95/95 [==============================] - 1s 15ms/step - loss: 0.2849 - accuracy: 0.8746 - val_loss: 0.2699 - val_accuracy: 0.8859\n",
    "Epoch 7/20\n",
    "95/95 [==============================] - 1s 15ms/step - loss: 0.2692 - accuracy: 0.8816 - val_loss: 0.2557 - val_accuracy: 0.8935\n",
    "Epoch 8/20\n",
    "95/95 [==============================] - 1s 15ms/step - loss: 0.2570 - accuracy: 0.8879 - val_loss: 0.2446 - val_accuracy: 0.8979\n",
    "Epoch 9/20\n",
    "95/95 [==============================] - 1s 15ms/step - loss: 0.2473 - accuracy: 0.8923 - val_loss: 0.2350 - val_accuracy: 0.8999\n",
    "Epoch 10/20\n",
    "95/95 [==============================] - 1s 15ms/step - loss: 0.2390 - accuracy: 0.8967 - val_loss: 0.2280 - val_accuracy: 0.9049\n",
    "Epoch 11/20\n",
    "95/95 [==============================] - 1s 15ms/step - loss: 0.2318 - accuracy: 0.8999 - val_loss: 0.2207 - val_accuracy: 0.9073\n",
    "Epoch 12/20\n",
    "95/95 [==============================] - 1s 15ms/step - loss: 0.2257 - accuracy: 0.9022 - val_loss: 0.2145 - val_accuracy: 0.9098\n",
    "Epoch 13/20\n",
    "95/95 [==============================] - 1s 15ms/step - loss: 0.2199 - accuracy: 0.9050 - val_loss: 0.2087 - val_accuracy: 0.9127\n",
    "Epoch 14/20\n",
    "95/95 [==============================] - 1s 15ms/step - loss: 0.2150 - accuracy: 0.9075 - val_loss: 0.2042 - val_accuracy: 0.9150\n",
    "Epoch 15/20\n",
    "95/95 [==============================] - 1s 15ms/step - loss: 0.2104 - accuracy: 0.9093 - val_loss: 0.1989 - val_accuracy: 0.9174\n",
    "Epoch 16/20\n",
    "95/95 [==============================] - 1s 15ms/step - loss: 0.2063 - accuracy: 0.9116 - val_loss: 0.1952 - val_accuracy: 0.9205\n",
    "Epoch 17/20\n",
    "95/95 [==============================] - 1s 15ms/step - loss: 0.2022 - accuracy: 0.9131 - val_loss: 0.1914 - val_accuracy: 0.9240\n",
    "Epoch 18/20\n",
    "95/95 [==============================] - 1s 15ms/step - loss: 0.1982 - accuracy: 0.9156 - val_loss: 0.1867 - val_accuracy: 0.9217\n",
    "Epoch 19/20\n",
    "95/95 [==============================] - 1s 15ms/step - loss: 0.1952 - accuracy: 0.9169 - val_loss: 0.1841 - val_accuracy: 0.9217\n",
    "Epoch 20/20\n",
    "95/95 [==============================] - 1s 15ms/step - loss: 0.1916 - accuracy: 0.9174 - val_loss: 0.1798 - val_accuracy: 0.9263"
   ]
  },
  {
   "cell_type": "markdown",
   "metadata": {},
   "source": [
    "gnews-swivel-20dim-with-oov/1"
   ]
  },
  {
   "cell_type": "markdown",
   "metadata": {},
   "source": [
    "Train for 95 steps, validate for 10 steps\n",
    "Epoch 1/20\n",
    "95/95 [==============================] - 2s 23ms/step - loss: 0.6693 - accuracy: 0.5871 - val_loss: 0.5567 - val_accuracy: 0.7057\n",
    "Epoch 2/20\n",
    "95/95 [==============================] - 1s 15ms/step - loss: 0.4968 - accuracy: 0.7483 - val_loss: 0.4298 - val_accuracy: 0.7945\n",
    "Epoch 3/20\n",
    "95/95 [==============================] - 1s 15ms/step - loss: 0.3933 - accuracy: 0.8203 - val_loss: 0.3504 - val_accuracy: 0.8462\n",
    "Epoch 4/20\n",
    "95/95 [==============================] - 1s 15ms/step - loss: 0.3341 - accuracy: 0.8510 - val_loss: 0.3058 - val_accuracy: 0.8684\n",
    "Epoch 5/20\n",
    "95/95 [==============================] - 1s 15ms/step - loss: 0.2998 - accuracy: 0.8680 - val_loss: 0.2785 - val_accuracy: 0.8826\n",
    "Epoch 6/20\n",
    "95/95 [==============================] - 1s 15ms/step - loss: 0.2772 - accuracy: 0.8787 - val_loss: 0.2585 - val_accuracy: 0.8878\n",
    "Epoch 7/20\n",
    "95/95 [==============================] - 1s 15ms/step - loss: 0.2608 - accuracy: 0.8863 - val_loss: 0.2446 - val_accuracy: 0.8954\n",
    "Epoch 8/20\n",
    "95/95 [==============================] - ETA: 0s - loss: 0.2486 - accuracy: 0.89 - 1s 15ms/step - loss: 0.2486 - accuracy: 0.8914 - val_loss: 0.2333 - val_accuracy: 0.9018\n",
    "Epoch 9/20\n",
    "95/95 [==============================] - 1s 15ms/step - loss: 0.2385 - accuracy: 0.8957 - val_loss: 0.2251 - val_accuracy: 0.9022\n",
    "Epoch 10/20\n",
    "95/95 [==============================] - 1s 15ms/step - loss: 0.2305 - accuracy: 0.8990 - val_loss: 0.2180 - val_accuracy: 0.9047\n",
    "Epoch 11/20\n",
    "95/95 [==============================] - 1s 15ms/step - loss: 0.2234 - accuracy: 0.9031 - val_loss: 0.2104 - val_accuracy: 0.9125\n",
    "Epoch 12/20\n",
    "95/95 [==============================] - 1s 15ms/step - loss: 0.2169 - accuracy: 0.9064 - val_loss: 0.2047 - val_accuracy: 0.9131\n",
    "Epoch 13/20\n",
    "95/95 [==============================] - 1s 15ms/step - loss: 0.2115 - accuracy: 0.9084 - val_loss: 0.1997 - val_accuracy: 0.9197\n",
    "Epoch 14/20\n",
    "95/95 [==============================] - 1s 15ms/step - loss: 0.2063 - accuracy: 0.9110 - val_loss: 0.1949 - val_accuracy: 0.9203\n",
    "Epoch 15/20\n",
    "95/95 [==============================] - 1s 15ms/step - loss: 0.2017 - accuracy: 0.9128 - val_loss: 0.1905 - val_accuracy: 0.9199\n",
    "Epoch 16/20\n",
    "95/95 [==============================] - 1s 15ms/step - loss: 0.1973 - accuracy: 0.9156 - val_loss: 0.1862 - val_accuracy: 0.9244\n",
    "Epoch 17/20\n",
    "95/95 [==============================] - 1s 15ms/step - loss: 0.1932 - accuracy: 0.9166 - val_loss: 0.1824 - val_accuracy: 0.9277\n",
    "Epoch 18/20\n",
    "95/95 [==============================] - 1s 15ms/step - loss: 0.1902 - accuracy: 0.9183 - val_loss: 0.1786 - val_accuracy: 0.9269\n",
    "Epoch 19/20\n",
    "95/95 [==============================] - 1s 15ms/step - loss: 0.1863 - accuracy: 0.9205 - val_loss: 0.1754 - val_accuracy: 0.9304\n",
    "Epoch 20/20\n",
    "95/95 [==============================] - 1s 15ms/step - loss: 0.1828 - accuracy: 0.9219 - val_loss: 0.1731 - val_accuracy: 0.9275"
   ]
  },
  {
   "cell_type": "code",
   "execution_count": 11,
   "metadata": {},
   "outputs": [
    {
     "name": "stdout",
     "output_type": "stream",
     "text": [
      "12/12 - 0s - loss: 0.3069 - accuracy: 0.8752\n",
      "loss: 0.307\n",
      "accuracy: 0.875\n"
     ]
    }
   ],
   "source": [
    "results = model.evaluate(test_data.batch(512), verbose=2)\n",
    "\n",
    "for name, value in zip(model.metrics_names, results):\n",
    "  print(\"%s: %.3f\" % (name, value))"
   ]
  },
  {
   "cell_type": "code",
   "execution_count": null,
   "metadata": {},
   "outputs": [],
   "source": []
  }
 ],
 "metadata": {
  "kernelspec": {
   "display_name": "Python 3",
   "language": "python",
   "name": "python3"
  },
  "language_info": {
   "codemirror_mode": {
    "name": "ipython",
    "version": 3
   },
   "file_extension": ".py",
   "mimetype": "text/x-python",
   "name": "python",
   "nbconvert_exporter": "python",
   "pygments_lexer": "ipython3",
   "version": "3.7.6"
  }
 },
 "nbformat": 4,
 "nbformat_minor": 4
}
