{
 "cells": [
  {
   "cell_type": "code",
   "execution_count": 1,
   "metadata": {},
   "outputs": [],
   "source": [
    "import pandas as pd\n",
    "import tensorflow as tf\n",
    "import tensorflow_hub as hub"
   ]
  },
  {
   "cell_type": "markdown",
   "metadata": {},
   "source": [
    "#### Don't copy code, make a function!!"
   ]
  },
  {
   "cell_type": "code",
   "execution_count": 2,
   "metadata": {},
   "outputs": [],
   "source": [
    "def pd_to_tf(dataframe):\n",
    "    return tf.data.Dataset.from_tensor_slices((tf.cast(dataframe['text'].values, tf.string), tf.cast(dataframe['fake'].values, tf.int32)))"
   ]
  },
  {
   "cell_type": "markdown",
   "metadata": {},
   "source": [
    "# Train/Val/Test Split"
   ]
  },
  {
   "cell_type": "code",
   "execution_count": 3,
   "metadata": {},
   "outputs": [],
   "source": [
    "# load data from json\n",
    "df = pd.read_json('../data/classification.json', lines=True).drop('index', axis=1)\n",
    "\n",
    "# shuffle rows\n",
    "df = df.sample(frac=1, random_state=1816)\n",
    "\n",
    "# manual train/val-test split\n",
    "# training set\n",
    "df_train = df.iloc[:int(df.shape[0]*.9)]\n",
    "# training fold of training set\n",
    "df_train = df_train.iloc[:int(df_train.shape[0]*.9)]\n",
    "# validation fold of training set\n",
    "df_val = df_train.iloc[int(df_train.shape[0]*.9):]\n",
    "# test set\n",
    "df_test = df.iloc[int(df.shape[0]*.9):]"
   ]
  },
  {
   "cell_type": "markdown",
   "metadata": {},
   "source": [
    "## Convert pandas.DataFrame to tensorflow.Dataset"
   ]
  },
  {
   "cell_type": "code",
   "execution_count": 4,
   "metadata": {},
   "outputs": [],
   "source": [
    "train_data = pd_to_tf(df_train)\n",
    "validation_data = pd_to_tf(df_val)\n",
    "test_data = pd_to_tf(df_test)"
   ]
  },
  {
   "cell_type": "code",
   "execution_count": 35,
   "metadata": {},
   "outputs": [],
   "source": [
    "embedding = 'https://tfhub.dev/google/tf2-preview/gnews-swivel-20dim/1'\n",
    "embedding = 'https://tfhub.dev/google/tf2-preview/gnews-swivel-20dim-with-oov/1'\n",
    "# embedding = 'https://tfhub.dev/google/tf2-preview/nnlm-en-dim50/1' # 30s per epoch\n",
    "# embedding = 'https://tfhub.dev/google/tf2-preview/nnlm-en-dim128/1' # errors: model probably too big to load\n",
    "# embedding = 'https://tfhub.dev/google/universal-sentence-encoder-lite/2' # error\n",
    "# embedding = 'https://tfhub.dev/google/universal-sentence-encoder/4' # error: probably too big"
   ]
  },
  {
   "cell_type": "code",
   "execution_count": 36,
   "metadata": {},
   "outputs": [
    {
     "ename": "InternalError",
     "evalue": "Failed copying input tensor from /job:localhost/replica:0/task:0/device:CPU:0 to /job:localhost/replica:0/task:0/device:GPU:0 in order to run Identity: Dst tensor is not initialized. [Op:Identity]",
     "output_type": "error",
     "traceback": [
      "\u001b[1;31m---------------------------------------------------------------------------\u001b[0m",
      "\u001b[1;31mInternalError\u001b[0m                             Traceback (most recent call last)",
      "\u001b[1;32m<ipython-input-36-b5bf4c462bd3>\u001b[0m in \u001b[0;36m<module>\u001b[1;34m\u001b[0m\n\u001b[1;32m----> 1\u001b[1;33m \u001b[0mhub_layer\u001b[0m \u001b[1;33m=\u001b[0m \u001b[0mhub\u001b[0m\u001b[1;33m.\u001b[0m\u001b[0mKerasLayer\u001b[0m\u001b[1;33m(\u001b[0m\u001b[0membedding\u001b[0m\u001b[1;33m,\u001b[0m \u001b[0minput_shape\u001b[0m\u001b[1;33m=\u001b[0m\u001b[1;33m[\u001b[0m\u001b[1;33m]\u001b[0m\u001b[1;33m,\u001b[0m \u001b[0mdtype\u001b[0m\u001b[1;33m=\u001b[0m\u001b[0mtf\u001b[0m\u001b[1;33m.\u001b[0m\u001b[0mstring\u001b[0m\u001b[1;33m,\u001b[0m \u001b[0mtrainable\u001b[0m\u001b[1;33m=\u001b[0m\u001b[1;32mTrue\u001b[0m\u001b[1;33m)\u001b[0m\u001b[1;33m\u001b[0m\u001b[1;33m\u001b[0m\u001b[0m\n\u001b[0m",
      "\u001b[1;32m~\\Miniconda3\\envs\\tf-gpu-cuda10\\lib\\site-packages\\tensorflow_hub\\keras_layer.py\u001b[0m in \u001b[0;36m__init__\u001b[1;34m(self, handle, trainable, arguments, _sentinel, tags, signature, signature_outputs_as_dict, output_key, output_shape, **kwargs)\u001b[0m\n\u001b[0;32m    135\u001b[0m           _convert_nest_to_shapes(output_shape))\n\u001b[0;32m    136\u001b[0m \u001b[1;33m\u001b[0m\u001b[0m\n\u001b[1;32m--> 137\u001b[1;33m     \u001b[0mself\u001b[0m\u001b[1;33m.\u001b[0m\u001b[0m_func\u001b[0m \u001b[1;33m=\u001b[0m \u001b[0mload_module\u001b[0m\u001b[1;33m(\u001b[0m\u001b[0mhandle\u001b[0m\u001b[1;33m,\u001b[0m \u001b[0mtags\u001b[0m\u001b[1;33m)\u001b[0m\u001b[1;33m\u001b[0m\u001b[1;33m\u001b[0m\u001b[0m\n\u001b[0m\u001b[0;32m    138\u001b[0m     \u001b[0mself\u001b[0m\u001b[1;33m.\u001b[0m\u001b[0m_has_training_argument\u001b[0m \u001b[1;33m=\u001b[0m \u001b[0mfunc_has_training_argument\u001b[0m\u001b[1;33m(\u001b[0m\u001b[0mself\u001b[0m\u001b[1;33m.\u001b[0m\u001b[0m_func\u001b[0m\u001b[1;33m)\u001b[0m\u001b[1;33m\u001b[0m\u001b[1;33m\u001b[0m\u001b[0m\n\u001b[0;32m    139\u001b[0m     \u001b[0mself\u001b[0m\u001b[1;33m.\u001b[0m\u001b[0m_is_hub_module_v1\u001b[0m \u001b[1;33m=\u001b[0m \u001b[0mgetattr\u001b[0m\u001b[1;33m(\u001b[0m\u001b[0mself\u001b[0m\u001b[1;33m.\u001b[0m\u001b[0m_func\u001b[0m\u001b[1;33m,\u001b[0m \u001b[1;34m\"_is_hub_module_v1\"\u001b[0m\u001b[1;33m,\u001b[0m \u001b[1;32mFalse\u001b[0m\u001b[1;33m)\u001b[0m\u001b[1;33m\u001b[0m\u001b[1;33m\u001b[0m\u001b[0m\n",
      "\u001b[1;32m~\\Miniconda3\\envs\\tf-gpu-cuda10\\lib\\site-packages\\tensorflow_hub\\keras_layer.py\u001b[0m in \u001b[0;36mload_module\u001b[1;34m(handle, tags)\u001b[0m\n\u001b[0;32m    350\u001b[0m     \u001b[1;32mreturn\u001b[0m \u001b[0mhandle\u001b[0m\u001b[1;33m\u001b[0m\u001b[1;33m\u001b[0m\u001b[0m\n\u001b[0;32m    351\u001b[0m   \u001b[1;32melse\u001b[0m\u001b[1;33m:\u001b[0m\u001b[1;33m\u001b[0m\u001b[1;33m\u001b[0m\u001b[0m\n\u001b[1;32m--> 352\u001b[1;33m     \u001b[1;32mreturn\u001b[0m \u001b[0mmodule_v2\u001b[0m\u001b[1;33m.\u001b[0m\u001b[0mload\u001b[0m\u001b[1;33m(\u001b[0m\u001b[0mhandle\u001b[0m\u001b[1;33m,\u001b[0m \u001b[0mtags\u001b[0m\u001b[1;33m=\u001b[0m\u001b[0mtags\u001b[0m\u001b[1;33m)\u001b[0m\u001b[1;33m\u001b[0m\u001b[1;33m\u001b[0m\u001b[0m\n\u001b[0m\u001b[0;32m    353\u001b[0m \u001b[1;33m\u001b[0m\u001b[0m\n\u001b[0;32m    354\u001b[0m \u001b[1;33m\u001b[0m\u001b[0m\n",
      "\u001b[1;32m~\\Miniconda3\\envs\\tf-gpu-cuda10\\lib\\site-packages\\tensorflow_hub\\module_v2.py\u001b[0m in \u001b[0;36mload\u001b[1;34m(handle, tags)\u001b[0m\n\u001b[0;32m     93\u001b[0m   \u001b[1;32mif\u001b[0m \u001b[0mtags\u001b[0m \u001b[1;32mis\u001b[0m \u001b[1;32mNone\u001b[0m \u001b[1;32mand\u001b[0m \u001b[0mis_hub_module_v1\u001b[0m\u001b[1;33m:\u001b[0m\u001b[1;33m\u001b[0m\u001b[1;33m\u001b[0m\u001b[0m\n\u001b[0;32m     94\u001b[0m       \u001b[0mtags\u001b[0m \u001b[1;33m=\u001b[0m \u001b[1;33m[\u001b[0m\u001b[1;33m]\u001b[0m\u001b[1;33m\u001b[0m\u001b[1;33m\u001b[0m\u001b[0m\n\u001b[1;32m---> 95\u001b[1;33m   \u001b[0mobj\u001b[0m \u001b[1;33m=\u001b[0m \u001b[0mtf_v1\u001b[0m\u001b[1;33m.\u001b[0m\u001b[0msaved_model\u001b[0m\u001b[1;33m.\u001b[0m\u001b[0mload_v2\u001b[0m\u001b[1;33m(\u001b[0m\u001b[0mmodule_path\u001b[0m\u001b[1;33m,\u001b[0m \u001b[0mtags\u001b[0m\u001b[1;33m=\u001b[0m\u001b[0mtags\u001b[0m\u001b[1;33m)\u001b[0m\u001b[1;33m\u001b[0m\u001b[1;33m\u001b[0m\u001b[0m\n\u001b[0m\u001b[0;32m     96\u001b[0m   \u001b[0mobj\u001b[0m\u001b[1;33m.\u001b[0m\u001b[0m_is_hub_module_v1\u001b[0m \u001b[1;33m=\u001b[0m \u001b[0mis_hub_module_v1\u001b[0m  \u001b[1;31m# pylint: disable=protected-access\u001b[0m\u001b[1;33m\u001b[0m\u001b[1;33m\u001b[0m\u001b[0m\n\u001b[0;32m     97\u001b[0m   \u001b[1;32mreturn\u001b[0m \u001b[0mobj\u001b[0m\u001b[1;33m\u001b[0m\u001b[1;33m\u001b[0m\u001b[0m\n",
      "\u001b[1;32m~\\Miniconda3\\envs\\tf-gpu-cuda10\\lib\\site-packages\\tensorflow_core\\python\\saved_model\\load.py\u001b[0m in \u001b[0;36mload\u001b[1;34m(export_dir, tags)\u001b[0m\n\u001b[0;32m    526\u001b[0m     \u001b[0mValueError\u001b[0m\u001b[1;33m:\u001b[0m \u001b[0mIf\u001b[0m\u001b[0;31m \u001b[0m\u001b[0;31m`\u001b[0m\u001b[0mtags\u001b[0m\u001b[0;31m`\u001b[0m \u001b[0mdon\u001b[0m\u001b[0;31m'\u001b[0m\u001b[0mt\u001b[0m \u001b[0mmatch\u001b[0m \u001b[0ma\u001b[0m \u001b[0mMetaGraph\u001b[0m \u001b[1;32min\u001b[0m \u001b[0mthe\u001b[0m \u001b[0mSavedModel\u001b[0m\u001b[1;33m.\u001b[0m\u001b[1;33m\u001b[0m\u001b[1;33m\u001b[0m\u001b[0m\n\u001b[0;32m    527\u001b[0m   \"\"\"\n\u001b[1;32m--> 528\u001b[1;33m   \u001b[1;32mreturn\u001b[0m \u001b[0mload_internal\u001b[0m\u001b[1;33m(\u001b[0m\u001b[0mexport_dir\u001b[0m\u001b[1;33m,\u001b[0m \u001b[0mtags\u001b[0m\u001b[1;33m)\u001b[0m\u001b[1;33m\u001b[0m\u001b[1;33m\u001b[0m\u001b[0m\n\u001b[0m\u001b[0;32m    529\u001b[0m \u001b[1;33m\u001b[0m\u001b[0m\n\u001b[0;32m    530\u001b[0m \u001b[1;33m\u001b[0m\u001b[0m\n",
      "\u001b[1;32m~\\Miniconda3\\envs\\tf-gpu-cuda10\\lib\\site-packages\\tensorflow_core\\python\\saved_model\\load.py\u001b[0m in \u001b[0;36mload_internal\u001b[1;34m(export_dir, tags, loader_cls)\u001b[0m\n\u001b[0;32m    550\u001b[0m       loader = loader_cls(object_graph_proto,\n\u001b[0;32m    551\u001b[0m                           \u001b[0msaved_model_proto\u001b[0m\u001b[1;33m,\u001b[0m\u001b[1;33m\u001b[0m\u001b[1;33m\u001b[0m\u001b[0m\n\u001b[1;32m--> 552\u001b[1;33m                           export_dir)\n\u001b[0m\u001b[0;32m    553\u001b[0m       \u001b[0mroot\u001b[0m \u001b[1;33m=\u001b[0m \u001b[0mloader\u001b[0m\u001b[1;33m.\u001b[0m\u001b[0mget\u001b[0m\u001b[1;33m(\u001b[0m\u001b[1;36m0\u001b[0m\u001b[1;33m)\u001b[0m\u001b[1;33m\u001b[0m\u001b[1;33m\u001b[0m\u001b[0m\n\u001b[0;32m    554\u001b[0m     \u001b[0mroot\u001b[0m\u001b[1;33m.\u001b[0m\u001b[0mtensorflow_version\u001b[0m \u001b[1;33m=\u001b[0m \u001b[0mmeta_graph_def\u001b[0m\u001b[1;33m.\u001b[0m\u001b[0mmeta_info_def\u001b[0m\u001b[1;33m.\u001b[0m\u001b[0mtensorflow_version\u001b[0m\u001b[1;33m\u001b[0m\u001b[1;33m\u001b[0m\u001b[0m\n",
      "\u001b[1;32m~\\Miniconda3\\envs\\tf-gpu-cuda10\\lib\\site-packages\\tensorflow_core\\python\\saved_model\\load.py\u001b[0m in \u001b[0;36m__init__\u001b[1;34m(self, object_graph_proto, saved_model_proto, export_dir)\u001b[0m\n\u001b[0;32m    126\u001b[0m     \u001b[0mself\u001b[0m\u001b[1;33m.\u001b[0m\u001b[0m_setup_functions_structures\u001b[0m\u001b[1;33m(\u001b[0m\u001b[1;33m)\u001b[0m\u001b[1;33m\u001b[0m\u001b[1;33m\u001b[0m\u001b[0m\n\u001b[0;32m    127\u001b[0m     \u001b[0mself\u001b[0m\u001b[1;33m.\u001b[0m\u001b[0m_setup_functions_captures\u001b[0m\u001b[1;33m(\u001b[0m\u001b[1;33m)\u001b[0m\u001b[1;33m\u001b[0m\u001b[1;33m\u001b[0m\u001b[0m\n\u001b[1;32m--> 128\u001b[1;33m     \u001b[0mself\u001b[0m\u001b[1;33m.\u001b[0m\u001b[0m_restore_checkpoint\u001b[0m\u001b[1;33m(\u001b[0m\u001b[1;33m)\u001b[0m\u001b[1;33m\u001b[0m\u001b[1;33m\u001b[0m\u001b[0m\n\u001b[0m\u001b[0;32m    129\u001b[0m \u001b[1;33m\u001b[0m\u001b[0m\n\u001b[0;32m    130\u001b[0m     \u001b[1;32mfor\u001b[0m \u001b[0mnode\u001b[0m \u001b[1;32min\u001b[0m \u001b[0mself\u001b[0m\u001b[1;33m.\u001b[0m\u001b[0m_nodes\u001b[0m\u001b[1;33m:\u001b[0m\u001b[1;33m\u001b[0m\u001b[1;33m\u001b[0m\u001b[0m\n",
      "\u001b[1;32m~\\Miniconda3\\envs\\tf-gpu-cuda10\\lib\\site-packages\\tensorflow_core\\python\\saved_model\\load.py\u001b[0m in \u001b[0;36m_restore_checkpoint\u001b[1;34m(self)\u001b[0m\n\u001b[0;32m    278\u001b[0m     \u001b[1;32mwith\u001b[0m \u001b[0mops\u001b[0m\u001b[1;33m.\u001b[0m\u001b[0mdevice\u001b[0m\u001b[1;33m(\u001b[0m\u001b[1;34m\"CPU\"\u001b[0m\u001b[1;33m)\u001b[0m\u001b[1;33m:\u001b[0m\u001b[1;33m\u001b[0m\u001b[1;33m\u001b[0m\u001b[0m\n\u001b[0;32m    279\u001b[0m       \u001b[0msaver\u001b[0m\u001b[1;33m.\u001b[0m\u001b[0m_file_prefix_placeholder\u001b[0m \u001b[1;33m=\u001b[0m \u001b[0mconstant_op\u001b[0m\u001b[1;33m.\u001b[0m\u001b[0mconstant\u001b[0m\u001b[1;33m(\u001b[0m\u001b[0mvariables_path\u001b[0m\u001b[1;33m)\u001b[0m\u001b[1;33m\u001b[0m\u001b[1;33m\u001b[0m\u001b[0m\n\u001b[1;32m--> 280\u001b[1;33m     \u001b[0mload_status\u001b[0m \u001b[1;33m=\u001b[0m \u001b[0msaver\u001b[0m\u001b[1;33m.\u001b[0m\u001b[0mrestore\u001b[0m\u001b[1;33m(\u001b[0m\u001b[0mvariables_path\u001b[0m\u001b[1;33m)\u001b[0m\u001b[1;33m\u001b[0m\u001b[1;33m\u001b[0m\u001b[0m\n\u001b[0m\u001b[0;32m    281\u001b[0m     \u001b[0mload_status\u001b[0m\u001b[1;33m.\u001b[0m\u001b[0massert_existing_objects_matched\u001b[0m\u001b[1;33m(\u001b[0m\u001b[1;33m)\u001b[0m\u001b[1;33m\u001b[0m\u001b[1;33m\u001b[0m\u001b[0m\n\u001b[0;32m    282\u001b[0m     \u001b[0mcheckpoint\u001b[0m \u001b[1;33m=\u001b[0m \u001b[0mload_status\u001b[0m\u001b[1;33m.\u001b[0m\u001b[0m_checkpoint\u001b[0m\u001b[1;33m\u001b[0m\u001b[1;33m\u001b[0m\u001b[0m\n",
      "\u001b[1;32m~\\Miniconda3\\envs\\tf-gpu-cuda10\\lib\\site-packages\\tensorflow_core\\python\\training\\tracking\\util.py\u001b[0m in \u001b[0;36mrestore\u001b[1;34m(self, save_path)\u001b[0m\n\u001b[0;32m   1281\u001b[0m         graph_view=self._graph_view)\n\u001b[0;32m   1282\u001b[0m     base.CheckpointPosition(\n\u001b[1;32m-> 1283\u001b[1;33m         checkpoint=checkpoint, proto_id=0).restore(self._graph_view.root)\n\u001b[0m\u001b[0;32m   1284\u001b[0m     load_status = CheckpointLoadStatus(\n\u001b[0;32m   1285\u001b[0m         \u001b[0mcheckpoint\u001b[0m\u001b[1;33m,\u001b[0m\u001b[1;33m\u001b[0m\u001b[1;33m\u001b[0m\u001b[0m\n",
      "\u001b[1;32m~\\Miniconda3\\envs\\tf-gpu-cuda10\\lib\\site-packages\\tensorflow_core\\python\\training\\tracking\\base.py\u001b[0m in \u001b[0;36mrestore\u001b[1;34m(self, trackable)\u001b[0m\n\u001b[0;32m    207\u001b[0m         \u001b[1;31m# This object's correspondence with a checkpointed object is new, so\u001b[0m\u001b[1;33m\u001b[0m\u001b[1;33m\u001b[0m\u001b[1;33m\u001b[0m\u001b[0m\n\u001b[0;32m    208\u001b[0m         \u001b[1;31m# process deferred restorations for it and its dependencies.\u001b[0m\u001b[1;33m\u001b[0m\u001b[1;33m\u001b[0m\u001b[1;33m\u001b[0m\u001b[0m\n\u001b[1;32m--> 209\u001b[1;33m         \u001b[0mrestore_ops\u001b[0m \u001b[1;33m=\u001b[0m \u001b[0mtrackable\u001b[0m\u001b[1;33m.\u001b[0m\u001b[0m_restore_from_checkpoint_position\u001b[0m\u001b[1;33m(\u001b[0m\u001b[0mself\u001b[0m\u001b[1;33m)\u001b[0m  \u001b[1;31m# pylint: disable=protected-access\u001b[0m\u001b[1;33m\u001b[0m\u001b[1;33m\u001b[0m\u001b[0m\n\u001b[0m\u001b[0;32m    210\u001b[0m         \u001b[1;32mif\u001b[0m \u001b[0mrestore_ops\u001b[0m\u001b[1;33m:\u001b[0m\u001b[1;33m\u001b[0m\u001b[1;33m\u001b[0m\u001b[0m\n\u001b[0;32m    211\u001b[0m           \u001b[0mself\u001b[0m\u001b[1;33m.\u001b[0m\u001b[0m_checkpoint\u001b[0m\u001b[1;33m.\u001b[0m\u001b[0mnew_restore_ops\u001b[0m\u001b[1;33m(\u001b[0m\u001b[0mrestore_ops\u001b[0m\u001b[1;33m)\u001b[0m\u001b[1;33m\u001b[0m\u001b[1;33m\u001b[0m\u001b[0m\n",
      "\u001b[1;32m~\\Miniconda3\\envs\\tf-gpu-cuda10\\lib\\site-packages\\tensorflow_core\\python\\training\\tracking\\base.py\u001b[0m in \u001b[0;36m_restore_from_checkpoint_position\u001b[1;34m(self, checkpoint_position)\u001b[0m\n\u001b[0;32m    906\u001b[0m     restore_ops.extend(\n\u001b[0;32m    907\u001b[0m         current_position.checkpoint.restore_saveables(\n\u001b[1;32m--> 908\u001b[1;33m             tensor_saveables, python_saveables))\n\u001b[0m\u001b[0;32m    909\u001b[0m     \u001b[1;32mreturn\u001b[0m \u001b[0mrestore_ops\u001b[0m\u001b[1;33m\u001b[0m\u001b[1;33m\u001b[0m\u001b[0m\n\u001b[0;32m    910\u001b[0m \u001b[1;33m\u001b[0m\u001b[0m\n",
      "\u001b[1;32m~\\Miniconda3\\envs\\tf-gpu-cuda10\\lib\\site-packages\\tensorflow_core\\python\\training\\tracking\\util.py\u001b[0m in \u001b[0;36mrestore_saveables\u001b[1;34m(self, tensor_saveables, python_saveables)\u001b[0m\n\u001b[0;32m    287\u001b[0m              \"expecting %s\") % (tensor_saveables.keys(), validated_names))\n\u001b[0;32m    288\u001b[0m       new_restore_ops = functional_saver.MultiDeviceSaver(\n\u001b[1;32m--> 289\u001b[1;33m           validated_saveables).restore(self.save_path_tensor)\n\u001b[0m\u001b[0;32m    290\u001b[0m       \u001b[1;32mif\u001b[0m \u001b[1;32mnot\u001b[0m \u001b[0mcontext\u001b[0m\u001b[1;33m.\u001b[0m\u001b[0mexecuting_eagerly\u001b[0m\u001b[1;33m(\u001b[0m\u001b[1;33m)\u001b[0m\u001b[1;33m:\u001b[0m\u001b[1;33m\u001b[0m\u001b[1;33m\u001b[0m\u001b[0m\n\u001b[0;32m    291\u001b[0m         \u001b[1;32mfor\u001b[0m \u001b[0mname\u001b[0m\u001b[1;33m,\u001b[0m \u001b[0mrestore_op\u001b[0m \u001b[1;32min\u001b[0m \u001b[0msorted\u001b[0m\u001b[1;33m(\u001b[0m\u001b[0mnew_restore_ops\u001b[0m\u001b[1;33m.\u001b[0m\u001b[0mitems\u001b[0m\u001b[1;33m(\u001b[0m\u001b[1;33m)\u001b[0m\u001b[1;33m)\u001b[0m\u001b[1;33m:\u001b[0m\u001b[1;33m\u001b[0m\u001b[1;33m\u001b[0m\u001b[0m\n",
      "\u001b[1;32m~\\Miniconda3\\envs\\tf-gpu-cuda10\\lib\\site-packages\\tensorflow_core\\python\\training\\saving\\functional_saver.py\u001b[0m in \u001b[0;36mrestore\u001b[1;34m(self, file_prefix)\u001b[0m\n\u001b[0;32m    253\u001b[0m     \u001b[1;32mfor\u001b[0m \u001b[0mdevice\u001b[0m\u001b[1;33m,\u001b[0m \u001b[0msaver\u001b[0m \u001b[1;32min\u001b[0m \u001b[0msorted\u001b[0m\u001b[1;33m(\u001b[0m\u001b[0mself\u001b[0m\u001b[1;33m.\u001b[0m\u001b[0m_single_device_savers\u001b[0m\u001b[1;33m.\u001b[0m\u001b[0mitems\u001b[0m\u001b[1;33m(\u001b[0m\u001b[1;33m)\u001b[0m\u001b[1;33m)\u001b[0m\u001b[1;33m:\u001b[0m\u001b[1;33m\u001b[0m\u001b[1;33m\u001b[0m\u001b[0m\n\u001b[0;32m    254\u001b[0m       \u001b[1;32mwith\u001b[0m \u001b[0mops\u001b[0m\u001b[1;33m.\u001b[0m\u001b[0mdevice\u001b[0m\u001b[1;33m(\u001b[0m\u001b[0mdevice\u001b[0m\u001b[1;33m)\u001b[0m\u001b[1;33m:\u001b[0m\u001b[1;33m\u001b[0m\u001b[1;33m\u001b[0m\u001b[0m\n\u001b[1;32m--> 255\u001b[1;33m         \u001b[0mrestore_ops\u001b[0m\u001b[1;33m.\u001b[0m\u001b[0mupdate\u001b[0m\u001b[1;33m(\u001b[0m\u001b[0msaver\u001b[0m\u001b[1;33m.\u001b[0m\u001b[0mrestore\u001b[0m\u001b[1;33m(\u001b[0m\u001b[0mfile_prefix\u001b[0m\u001b[1;33m)\u001b[0m\u001b[1;33m)\u001b[0m\u001b[1;33m\u001b[0m\u001b[1;33m\u001b[0m\u001b[0m\n\u001b[0m\u001b[0;32m    256\u001b[0m     \u001b[1;32mreturn\u001b[0m \u001b[0mrestore_ops\u001b[0m\u001b[1;33m\u001b[0m\u001b[1;33m\u001b[0m\u001b[0m\n",
      "\u001b[1;32m~\\Miniconda3\\envs\\tf-gpu-cuda10\\lib\\site-packages\\tensorflow_core\\python\\training\\saving\\functional_saver.py\u001b[0m in \u001b[0;36mrestore\u001b[1;34m(self, file_prefix)\u001b[0m\n\u001b[0;32m    100\u001b[0m                                           structured_restored_tensors):\n\u001b[0;32m    101\u001b[0m       restore_ops[saveable.name] = saveable.restore(\n\u001b[1;32m--> 102\u001b[1;33m           restored_tensors, restored_shapes=None)\n\u001b[0m\u001b[0;32m    103\u001b[0m     \u001b[1;32mreturn\u001b[0m \u001b[0mrestore_ops\u001b[0m\u001b[1;33m\u001b[0m\u001b[1;33m\u001b[0m\u001b[0m\n\u001b[0;32m    104\u001b[0m \u001b[1;33m\u001b[0m\u001b[0m\n",
      "\u001b[1;32m~\\Miniconda3\\envs\\tf-gpu-cuda10\\lib\\site-packages\\tensorflow_core\\python\\training\\saving\\saveable_object_util.py\u001b[0m in \u001b[0;36mrestore\u001b[1;34m(self, restored_tensors, restored_shapes)\u001b[0m\n\u001b[0;32m    112\u001b[0m     \u001b[1;31m# Copy the restored tensor to the variable's device.\u001b[0m\u001b[1;33m\u001b[0m\u001b[1;33m\u001b[0m\u001b[1;33m\u001b[0m\u001b[0m\n\u001b[0;32m    113\u001b[0m     \u001b[1;32mwith\u001b[0m \u001b[0mops\u001b[0m\u001b[1;33m.\u001b[0m\u001b[0mdevice\u001b[0m\u001b[1;33m(\u001b[0m\u001b[0mself\u001b[0m\u001b[1;33m.\u001b[0m\u001b[0m_var_device\u001b[0m\u001b[1;33m)\u001b[0m\u001b[1;33m:\u001b[0m\u001b[1;33m\u001b[0m\u001b[1;33m\u001b[0m\u001b[0m\n\u001b[1;32m--> 114\u001b[1;33m       \u001b[0mrestored_tensor\u001b[0m \u001b[1;33m=\u001b[0m \u001b[0marray_ops\u001b[0m\u001b[1;33m.\u001b[0m\u001b[0midentity\u001b[0m\u001b[1;33m(\u001b[0m\u001b[0mrestored_tensor\u001b[0m\u001b[1;33m)\u001b[0m\u001b[1;33m\u001b[0m\u001b[1;33m\u001b[0m\u001b[0m\n\u001b[0m\u001b[0;32m    115\u001b[0m       return resource_variable_ops.shape_safe_assign_variable_handle(\n\u001b[0;32m    116\u001b[0m           self.handle_op, self._var_shape, restored_tensor)\n",
      "\u001b[1;32m~\\Miniconda3\\envs\\tf-gpu-cuda10\\lib\\site-packages\\tensorflow_core\\python\\util\\dispatch.py\u001b[0m in \u001b[0;36mwrapper\u001b[1;34m(*args, **kwargs)\u001b[0m\n\u001b[0;32m    178\u001b[0m     \u001b[1;34m\"\"\"Call target, and fall back on dispatchers if there is a TypeError.\"\"\"\u001b[0m\u001b[1;33m\u001b[0m\u001b[1;33m\u001b[0m\u001b[0m\n\u001b[0;32m    179\u001b[0m     \u001b[1;32mtry\u001b[0m\u001b[1;33m:\u001b[0m\u001b[1;33m\u001b[0m\u001b[1;33m\u001b[0m\u001b[0m\n\u001b[1;32m--> 180\u001b[1;33m       \u001b[1;32mreturn\u001b[0m \u001b[0mtarget\u001b[0m\u001b[1;33m(\u001b[0m\u001b[1;33m*\u001b[0m\u001b[0margs\u001b[0m\u001b[1;33m,\u001b[0m \u001b[1;33m**\u001b[0m\u001b[0mkwargs\u001b[0m\u001b[1;33m)\u001b[0m\u001b[1;33m\u001b[0m\u001b[1;33m\u001b[0m\u001b[0m\n\u001b[0m\u001b[0;32m    181\u001b[0m     \u001b[1;32mexcept\u001b[0m \u001b[1;33m(\u001b[0m\u001b[0mTypeError\u001b[0m\u001b[1;33m,\u001b[0m \u001b[0mValueError\u001b[0m\u001b[1;33m)\u001b[0m\u001b[1;33m:\u001b[0m\u001b[1;33m\u001b[0m\u001b[1;33m\u001b[0m\u001b[0m\n\u001b[0;32m    182\u001b[0m       \u001b[1;31m# Note: convert_to_eager_tensor currently raises a ValueError, not a\u001b[0m\u001b[1;33m\u001b[0m\u001b[1;33m\u001b[0m\u001b[1;33m\u001b[0m\u001b[0m\n",
      "\u001b[1;32m~\\Miniconda3\\envs\\tf-gpu-cuda10\\lib\\site-packages\\tensorflow_core\\python\\ops\\array_ops.py\u001b[0m in \u001b[0;36midentity\u001b[1;34m(input, name)\u001b[0m\n\u001b[0;32m    265\u001b[0m     \u001b[1;31m# variables. Variables have correct handle data when graph building.\u001b[0m\u001b[1;33m\u001b[0m\u001b[1;33m\u001b[0m\u001b[1;33m\u001b[0m\u001b[0m\n\u001b[0;32m    266\u001b[0m     \u001b[0minput\u001b[0m \u001b[1;33m=\u001b[0m \u001b[0mops\u001b[0m\u001b[1;33m.\u001b[0m\u001b[0mconvert_to_tensor\u001b[0m\u001b[1;33m(\u001b[0m\u001b[0minput\u001b[0m\u001b[1;33m)\u001b[0m\u001b[1;33m\u001b[0m\u001b[1;33m\u001b[0m\u001b[0m\n\u001b[1;32m--> 267\u001b[1;33m   \u001b[0mret\u001b[0m \u001b[1;33m=\u001b[0m \u001b[0mgen_array_ops\u001b[0m\u001b[1;33m.\u001b[0m\u001b[0midentity\u001b[0m\u001b[1;33m(\u001b[0m\u001b[0minput\u001b[0m\u001b[1;33m,\u001b[0m \u001b[0mname\u001b[0m\u001b[1;33m=\u001b[0m\u001b[0mname\u001b[0m\u001b[1;33m)\u001b[0m\u001b[1;33m\u001b[0m\u001b[1;33m\u001b[0m\u001b[0m\n\u001b[0m\u001b[0;32m    268\u001b[0m   \u001b[1;31m# Propagate handle data for happier shape inference for resource variables.\u001b[0m\u001b[1;33m\u001b[0m\u001b[1;33m\u001b[0m\u001b[1;33m\u001b[0m\u001b[0m\n\u001b[0;32m    269\u001b[0m   \u001b[1;32mif\u001b[0m \u001b[0mhasattr\u001b[0m\u001b[1;33m(\u001b[0m\u001b[0minput\u001b[0m\u001b[1;33m,\u001b[0m \u001b[1;34m\"_handle_data\"\u001b[0m\u001b[1;33m)\u001b[0m\u001b[1;33m:\u001b[0m\u001b[1;33m\u001b[0m\u001b[1;33m\u001b[0m\u001b[0m\n",
      "\u001b[1;32m~\\Miniconda3\\envs\\tf-gpu-cuda10\\lib\\site-packages\\tensorflow_core\\python\\ops\\gen_array_ops.py\u001b[0m in \u001b[0;36midentity\u001b[1;34m(input, name)\u001b[0m\n\u001b[0;32m   3824\u001b[0m         \u001b[1;32mpass\u001b[0m  \u001b[1;31m# Add nodes to the TensorFlow graph.\u001b[0m\u001b[1;33m\u001b[0m\u001b[1;33m\u001b[0m\u001b[0m\n\u001b[0;32m   3825\u001b[0m     \u001b[1;32mexcept\u001b[0m \u001b[0m_core\u001b[0m\u001b[1;33m.\u001b[0m\u001b[0m_NotOkStatusException\u001b[0m \u001b[1;32mas\u001b[0m \u001b[0me\u001b[0m\u001b[1;33m:\u001b[0m\u001b[1;33m\u001b[0m\u001b[1;33m\u001b[0m\u001b[0m\n\u001b[1;32m-> 3826\u001b[1;33m       \u001b[0m_ops\u001b[0m\u001b[1;33m.\u001b[0m\u001b[0mraise_from_not_ok_status\u001b[0m\u001b[1;33m(\u001b[0m\u001b[0me\u001b[0m\u001b[1;33m,\u001b[0m \u001b[0mname\u001b[0m\u001b[1;33m)\u001b[0m\u001b[1;33m\u001b[0m\u001b[1;33m\u001b[0m\u001b[0m\n\u001b[0m\u001b[0;32m   3827\u001b[0m   \u001b[1;31m# Add nodes to the TensorFlow graph.\u001b[0m\u001b[1;33m\u001b[0m\u001b[1;33m\u001b[0m\u001b[1;33m\u001b[0m\u001b[0m\n\u001b[0;32m   3828\u001b[0m   _, _, _op, _outputs = _op_def_library._apply_op_helper(\n",
      "\u001b[1;32m~\\Miniconda3\\envs\\tf-gpu-cuda10\\lib\\site-packages\\tensorflow_core\\python\\framework\\ops.py\u001b[0m in \u001b[0;36mraise_from_not_ok_status\u001b[1;34m(e, name)\u001b[0m\n\u001b[0;32m   6604\u001b[0m   \u001b[0mmessage\u001b[0m \u001b[1;33m=\u001b[0m \u001b[0me\u001b[0m\u001b[1;33m.\u001b[0m\u001b[0mmessage\u001b[0m \u001b[1;33m+\u001b[0m \u001b[1;33m(\u001b[0m\u001b[1;34m\" name: \"\u001b[0m \u001b[1;33m+\u001b[0m \u001b[0mname\u001b[0m \u001b[1;32mif\u001b[0m \u001b[0mname\u001b[0m \u001b[1;32mis\u001b[0m \u001b[1;32mnot\u001b[0m \u001b[1;32mNone\u001b[0m \u001b[1;32melse\u001b[0m \u001b[1;34m\"\"\u001b[0m\u001b[1;33m)\u001b[0m\u001b[1;33m\u001b[0m\u001b[1;33m\u001b[0m\u001b[0m\n\u001b[0;32m   6605\u001b[0m   \u001b[1;31m# pylint: disable=protected-access\u001b[0m\u001b[1;33m\u001b[0m\u001b[1;33m\u001b[0m\u001b[1;33m\u001b[0m\u001b[0m\n\u001b[1;32m-> 6606\u001b[1;33m   \u001b[0msix\u001b[0m\u001b[1;33m.\u001b[0m\u001b[0mraise_from\u001b[0m\u001b[1;33m(\u001b[0m\u001b[0mcore\u001b[0m\u001b[1;33m.\u001b[0m\u001b[0m_status_to_exception\u001b[0m\u001b[1;33m(\u001b[0m\u001b[0me\u001b[0m\u001b[1;33m.\u001b[0m\u001b[0mcode\u001b[0m\u001b[1;33m,\u001b[0m \u001b[0mmessage\u001b[0m\u001b[1;33m)\u001b[0m\u001b[1;33m,\u001b[0m \u001b[1;32mNone\u001b[0m\u001b[1;33m)\u001b[0m\u001b[1;33m\u001b[0m\u001b[1;33m\u001b[0m\u001b[0m\n\u001b[0m\u001b[0;32m   6607\u001b[0m   \u001b[1;31m# pylint: enable=protected-access\u001b[0m\u001b[1;33m\u001b[0m\u001b[1;33m\u001b[0m\u001b[1;33m\u001b[0m\u001b[0m\n\u001b[0;32m   6608\u001b[0m \u001b[1;33m\u001b[0m\u001b[0m\n",
      "\u001b[1;32m~\\Miniconda3\\envs\\tf-gpu-cuda10\\lib\\site-packages\\six.py\u001b[0m in \u001b[0;36mraise_from\u001b[1;34m(value, from_value)\u001b[0m\n",
      "\u001b[1;31mInternalError\u001b[0m: Failed copying input tensor from /job:localhost/replica:0/task:0/device:CPU:0 to /job:localhost/replica:0/task:0/device:GPU:0 in order to run Identity: Dst tensor is not initialized. [Op:Identity]"
     ]
    }
   ],
   "source": [
    "hub_layer = hub.KerasLayer(embedding, input_shape=[], dtype=tf.string, trainable=True)"
   ]
  },
  {
   "cell_type": "code",
   "execution_count": null,
   "metadata": {},
   "outputs": [],
   "source": [
    "model = tf.keras.Sequential([hub_layer, tf.keras.layers.Dense(16, activation='relu'), tf.keras.layers.Dense(1)])"
   ]
  },
  {
   "cell_type": "code",
   "execution_count": 23,
   "metadata": {},
   "outputs": [
    {
     "name": "stdout",
     "output_type": "stream",
     "text": [
      "Model: \"sequential_2\"\n",
      "_________________________________________________________________\n",
      "Layer (type)                 Output Shape              Param #   \n",
      "=================================================================\n",
      "keras_layer_2 (KerasLayer)   (None, 50)                48190600  \n",
      "_________________________________________________________________\n",
      "dense_4 (Dense)              (None, 16)                816       \n",
      "_________________________________________________________________\n",
      "dense_5 (Dense)              (None, 1)                 17        \n",
      "=================================================================\n",
      "Total params: 48,191,433\n",
      "Trainable params: 48,191,433\n",
      "Non-trainable params: 0\n",
      "_________________________________________________________________\n"
     ]
    }
   ],
   "source": [
    "model.summary()"
   ]
  },
  {
   "cell_type": "code",
   "execution_count": 24,
   "metadata": {},
   "outputs": [],
   "source": [
    "model.compile(optimizer='adam',\n",
    "              loss=tf.keras.losses.BinaryCrossentropy(from_logits=True),\n",
    "              metrics=['accuracy'])"
   ]
  },
  {
   "cell_type": "code",
   "execution_count": 25,
   "metadata": {},
   "outputs": [
    {
     "name": "stdout",
     "output_type": "stream",
     "text": [
      "Train for 95 steps, validate for 10 steps\n",
      "Epoch 1/20\n",
      "95/95 [==============================] - 28s 296ms/step - loss: 0.5762 - accuracy: 0.6799 - val_loss: 0.4041 - val_accuracy: 0.8365\n",
      "Epoch 2/20\n",
      "95/95 [==============================] - 27s 286ms/step - loss: 0.3346 - accuracy: 0.8553 - val_loss: 0.2523 - val_accuracy: 0.8892\n",
      "Epoch 3/20\n",
      "95/95 [==============================] - 27s 286ms/step - loss: 0.2531 - accuracy: 0.8905 - val_loss: 0.2045 - val_accuracy: 0.9117\n",
      "Epoch 4/20\n",
      "95/95 [==============================] - 27s 289ms/step - loss: 0.2163 - accuracy: 0.9076 - val_loss: 0.1748 - val_accuracy: 0.9285\n",
      "Epoch 5/20\n",
      "95/95 [==============================] - 27s 289ms/step - loss: 0.1926 - accuracy: 0.9187 - val_loss: 0.1546 - val_accuracy: 0.9368\n",
      "Epoch 6/20\n",
      "95/95 [==============================] - 27s 289ms/step - loss: 0.1751 - accuracy: 0.9268 - val_loss: 0.1411 - val_accuracy: 0.9444\n",
      "Epoch 7/20\n",
      "95/95 [==============================] - 27s 289ms/step - loss: 0.1619 - accuracy: 0.9330 - val_loss: 0.1281 - val_accuracy: 0.9460\n",
      "Epoch 8/20\n",
      "95/95 [==============================] - 27s 289ms/step - loss: 0.1522 - accuracy: 0.9370 - val_loss: 0.1215 - val_accuracy: 0.9578\n",
      "Epoch 9/20\n",
      "95/95 [==============================] - 27s 289ms/step - loss: 0.1439 - accuracy: 0.9405 - val_loss: 0.1108 - val_accuracy: 0.9574\n",
      "Epoch 10/20\n",
      "95/95 [==============================] - 27s 289ms/step - loss: 0.1367 - accuracy: 0.9447 - val_loss: 0.1049 - val_accuracy: 0.9607\n",
      "Epoch 11/20\n",
      "95/95 [==============================] - 27s 289ms/step - loss: 0.1304 - accuracy: 0.9467 - val_loss: 0.1003 - val_accuracy: 0.9627\n",
      "Epoch 12/20\n",
      "95/95 [==============================] - 28s 293ms/step - loss: 0.1255 - accuracy: 0.9490 - val_loss: 0.0954 - val_accuracy: 0.9611\n",
      "Epoch 13/20\n",
      "95/95 [==============================] - 29s 307ms/step - loss: 0.1209 - accuracy: 0.9512 - val_loss: 0.0912 - val_accuracy: 0.9660\n",
      "Epoch 14/20\n",
      "95/95 [==============================] - 30s 319ms/step - loss: 0.1166 - accuracy: 0.9516 - val_loss: 0.0864 - val_accuracy: 0.9660\n",
      "Epoch 15/20\n",
      "95/95 [==============================] - 34s 355ms/step - loss: 0.1137 - accuracy: 0.9538 - val_loss: 0.0840 - val_accuracy: 0.9683\n",
      "Epoch 16/20\n",
      "95/95 [==============================] - 34s 357ms/step - loss: 0.1101 - accuracy: 0.9552 - val_loss: 0.0827 - val_accuracy: 0.9642\n",
      "Epoch 17/20\n",
      "95/95 [==============================] - 34s 356ms/step - loss: 0.1070 - accuracy: 0.9556 - val_loss: 0.0790 - val_accuracy: 0.9691\n",
      "Epoch 18/20\n",
      "95/95 [==============================] - 34s 357ms/step - loss: 0.1037 - accuracy: 0.9571 - val_loss: 0.0767 - val_accuracy: 0.9716\n",
      "Epoch 19/20\n",
      "95/95 [==============================] - 34s 357ms/step - loss: 0.1005 - accuracy: 0.9584 - val_loss: 0.0737 - val_accuracy: 0.9738\n",
      "Epoch 20/20\n",
      "95/95 [==============================] - 35s 368ms/step - loss: 0.0975 - accuracy: 0.9596 - val_loss: 0.0718 - val_accuracy: 0.9708\n"
     ]
    }
   ],
   "source": [
    "history = model.fit(train_data.shuffle(10000).batch(512),\n",
    "                    epochs=20,\n",
    "                    validation_data=validation_data.batch(512),\n",
    "                    verbose=1)"
   ]
  },
  {
   "cell_type": "markdown",
   "metadata": {},
   "source": [
    "gnews-swivel-20dim/1"
   ]
  },
  {
   "cell_type": "markdown",
   "metadata": {},
   "source": [
    "Train for 95 steps, validate for 10 steps\n",
    "Epoch 1/20\n",
    "95/95 [==============================] - 3s 35ms/step - loss: 0.6591 - accuracy: 0.5925 - val_loss: 0.5575 - val_accuracy: 0.6907\n",
    "Epoch 2/20\n",
    "95/95 [==============================] - 1s 15ms/step - loss: 0.4910 - accuracy: 0.7546 - val_loss: 0.4238 - val_accuracy: 0.8021\n",
    "Epoch 3/20\n",
    "95/95 [==============================] - 1s 15ms/step - loss: 0.3897 - accuracy: 0.8220 - val_loss: 0.3516 - val_accuracy: 0.8433\n",
    "Epoch 4/20\n",
    "95/95 [==============================] - 1s 15ms/step - loss: 0.3370 - accuracy: 0.8500 - val_loss: 0.3131 - val_accuracy: 0.8587\n",
    "Epoch 5/20\n",
    "95/95 [==============================] - 1s 15ms/step - loss: 0.3060 - accuracy: 0.8647 - val_loss: 0.2878 - val_accuracy: 0.8793\n",
    "Epoch 6/20\n",
    "95/95 [==============================] - 1s 15ms/step - loss: 0.2849 - accuracy: 0.8746 - val_loss: 0.2699 - val_accuracy: 0.8859\n",
    "Epoch 7/20\n",
    "95/95 [==============================] - 1s 15ms/step - loss: 0.2692 - accuracy: 0.8816 - val_loss: 0.2557 - val_accuracy: 0.8935\n",
    "Epoch 8/20\n",
    "95/95 [==============================] - 1s 15ms/step - loss: 0.2570 - accuracy: 0.8879 - val_loss: 0.2446 - val_accuracy: 0.8979\n",
    "Epoch 9/20\n",
    "95/95 [==============================] - 1s 15ms/step - loss: 0.2473 - accuracy: 0.8923 - val_loss: 0.2350 - val_accuracy: 0.8999\n",
    "Epoch 10/20\n",
    "95/95 [==============================] - 1s 15ms/step - loss: 0.2390 - accuracy: 0.8967 - val_loss: 0.2280 - val_accuracy: 0.9049\n",
    "Epoch 11/20\n",
    "95/95 [==============================] - 1s 15ms/step - loss: 0.2318 - accuracy: 0.8999 - val_loss: 0.2207 - val_accuracy: 0.9073\n",
    "Epoch 12/20\n",
    "95/95 [==============================] - 1s 15ms/step - loss: 0.2257 - accuracy: 0.9022 - val_loss: 0.2145 - val_accuracy: 0.9098\n",
    "Epoch 13/20\n",
    "95/95 [==============================] - 1s 15ms/step - loss: 0.2199 - accuracy: 0.9050 - val_loss: 0.2087 - val_accuracy: 0.9127\n",
    "Epoch 14/20\n",
    "95/95 [==============================] - 1s 15ms/step - loss: 0.2150 - accuracy: 0.9075 - val_loss: 0.2042 - val_accuracy: 0.9150\n",
    "Epoch 15/20\n",
    "95/95 [==============================] - 1s 15ms/step - loss: 0.2104 - accuracy: 0.9093 - val_loss: 0.1989 - val_accuracy: 0.9174\n",
    "Epoch 16/20\n",
    "95/95 [==============================] - 1s 15ms/step - loss: 0.2063 - accuracy: 0.9116 - val_loss: 0.1952 - val_accuracy: 0.9205\n",
    "Epoch 17/20\n",
    "95/95 [==============================] - 1s 15ms/step - loss: 0.2022 - accuracy: 0.9131 - val_loss: 0.1914 - val_accuracy: 0.9240\n",
    "Epoch 18/20\n",
    "95/95 [==============================] - 1s 15ms/step - loss: 0.1982 - accuracy: 0.9156 - val_loss: 0.1867 - val_accuracy: 0.9217\n",
    "Epoch 19/20\n",
    "95/95 [==============================] - 1s 15ms/step - loss: 0.1952 - accuracy: 0.9169 - val_loss: 0.1841 - val_accuracy: 0.9217\n",
    "Epoch 20/20\n",
    "95/95 [==============================] - 1s 15ms/step - loss: 0.1916 - accuracy: 0.9174 - val_loss: 0.1798 - val_accuracy: 0.9263"
   ]
  },
  {
   "cell_type": "markdown",
   "metadata": {},
   "source": [
    "gnews-swivel-20dim-with-oov/1"
   ]
  },
  {
   "cell_type": "markdown",
   "metadata": {},
   "source": [
    "Train for 95 steps, validate for 10 steps\n",
    "Epoch 1/20\n",
    "95/95 [==============================] - 2s 23ms/step - loss: 0.6693 - accuracy: 0.5871 - val_loss: 0.5567 - val_accuracy: 0.7057\n",
    "Epoch 2/20\n",
    "95/95 [==============================] - 1s 15ms/step - loss: 0.4968 - accuracy: 0.7483 - val_loss: 0.4298 - val_accuracy: 0.7945\n",
    "Epoch 3/20\n",
    "95/95 [==============================] - 1s 15ms/step - loss: 0.3933 - accuracy: 0.8203 - val_loss: 0.3504 - val_accuracy: 0.8462\n",
    "Epoch 4/20\n",
    "95/95 [==============================] - 1s 15ms/step - loss: 0.3341 - accuracy: 0.8510 - val_loss: 0.3058 - val_accuracy: 0.8684\n",
    "Epoch 5/20\n",
    "95/95 [==============================] - 1s 15ms/step - loss: 0.2998 - accuracy: 0.8680 - val_loss: 0.2785 - val_accuracy: 0.8826\n",
    "Epoch 6/20\n",
    "95/95 [==============================] - 1s 15ms/step - loss: 0.2772 - accuracy: 0.8787 - val_loss: 0.2585 - val_accuracy: 0.8878\n",
    "Epoch 7/20\n",
    "95/95 [==============================] - 1s 15ms/step - loss: 0.2608 - accuracy: 0.8863 - val_loss: 0.2446 - val_accuracy: 0.8954\n",
    "Epoch 8/20\n",
    "95/95 [==============================] - ETA: 0s - loss: 0.2486 - accuracy: 0.89 - 1s 15ms/step - loss: 0.2486 - accuracy: 0.8914 - val_loss: 0.2333 - val_accuracy: 0.9018\n",
    "Epoch 9/20\n",
    "95/95 [==============================] - 1s 15ms/step - loss: 0.2385 - accuracy: 0.8957 - val_loss: 0.2251 - val_accuracy: 0.9022\n",
    "Epoch 10/20\n",
    "95/95 [==============================] - 1s 15ms/step - loss: 0.2305 - accuracy: 0.8990 - val_loss: 0.2180 - val_accuracy: 0.9047\n",
    "Epoch 11/20\n",
    "95/95 [==============================] - 1s 15ms/step - loss: 0.2234 - accuracy: 0.9031 - val_loss: 0.2104 - val_accuracy: 0.9125\n",
    "Epoch 12/20\n",
    "95/95 [==============================] - 1s 15ms/step - loss: 0.2169 - accuracy: 0.9064 - val_loss: 0.2047 - val_accuracy: 0.9131\n",
    "Epoch 13/20\n",
    "95/95 [==============================] - 1s 15ms/step - loss: 0.2115 - accuracy: 0.9084 - val_loss: 0.1997 - val_accuracy: 0.9197\n",
    "Epoch 14/20\n",
    "95/95 [==============================] - 1s 15ms/step - loss: 0.2063 - accuracy: 0.9110 - val_loss: 0.1949 - val_accuracy: 0.9203\n",
    "Epoch 15/20\n",
    "95/95 [==============================] - 1s 15ms/step - loss: 0.2017 - accuracy: 0.9128 - val_loss: 0.1905 - val_accuracy: 0.9199\n",
    "Epoch 16/20\n",
    "95/95 [==============================] - 1s 15ms/step - loss: 0.1973 - accuracy: 0.9156 - val_loss: 0.1862 - val_accuracy: 0.9244\n",
    "Epoch 17/20\n",
    "95/95 [==============================] - 1s 15ms/step - loss: 0.1932 - accuracy: 0.9166 - val_loss: 0.1824 - val_accuracy: 0.9277\n",
    "Epoch 18/20\n",
    "95/95 [==============================] - 1s 15ms/step - loss: 0.1902 - accuracy: 0.9183 - val_loss: 0.1786 - val_accuracy: 0.9269\n",
    "Epoch 19/20\n",
    "95/95 [==============================] - 1s 15ms/step - loss: 0.1863 - accuracy: 0.9205 - val_loss: 0.1754 - val_accuracy: 0.9304\n",
    "Epoch 20/20\n",
    "95/95 [==============================] - 1s 15ms/step - loss: 0.1828 - accuracy: 0.9219 - val_loss: 0.1731 - val_accuracy: 0.9275"
   ]
  },
  {
   "cell_type": "markdown",
   "metadata": {},
   "source": [
    "nnlm-en-dim50/1"
   ]
  },
  {
   "cell_type": "markdown",
   "metadata": {},
   "source": [
    "Train for 95 steps, validate for 10 steps\n",
    "Epoch 1/20\n",
    "95/95 [==============================] - 28s 296ms/step - loss: 0.5762 - accuracy: 0.6799 - val_loss: 0.4041 - val_accuracy: 0.8365\n",
    "Epoch 2/20\n",
    "95/95 [==============================] - 27s 286ms/step - loss: 0.3346 - accuracy: 0.8553 - val_loss: 0.2523 - val_accuracy: 0.8892\n",
    "Epoch 3/20\n",
    "95/95 [==============================] - 27s 286ms/step - loss: 0.2531 - accuracy: 0.8905 - val_loss: 0.2045 - val_accuracy: 0.9117\n",
    "Epoch 4/20\n",
    "95/95 [==============================] - 27s 289ms/step - loss: 0.2163 - accuracy: 0.9076 - val_loss: 0.1748 - val_accuracy: 0.9285\n",
    "Epoch 5/20\n",
    "95/95 [==============================] - 27s 289ms/step - loss: 0.1926 - accuracy: 0.9187 - val_loss: 0.1546 - val_accuracy: 0.9368\n",
    "Epoch 6/20\n",
    "95/95 [==============================] - 27s 289ms/step - loss: 0.1751 - accuracy: 0.9268 - val_loss: 0.1411 - val_accuracy: 0.9444\n",
    "Epoch 7/20\n",
    "95/95 [==============================] - 27s 289ms/step - loss: 0.1619 - accuracy: 0.9330 - val_loss: 0.1281 - val_accuracy: 0.9460\n",
    "Epoch 8/20\n",
    "95/95 [==============================] - 27s 289ms/step - loss: 0.1522 - accuracy: 0.9370 - val_loss: 0.1215 - val_accuracy: 0.9578\n",
    "Epoch 9/20\n",
    "95/95 [==============================] - 27s 289ms/step - loss: 0.1439 - accuracy: 0.9405 - val_loss: 0.1108 - val_accuracy: 0.9574\n",
    "Epoch 10/20\n",
    "95/95 [==============================] - 27s 289ms/step - loss: 0.1367 - accuracy: 0.9447 - val_loss: 0.1049 - val_accuracy: 0.9607\n",
    "Epoch 11/20\n",
    "95/95 [==============================] - 27s 289ms/step - loss: 0.1304 - accuracy: 0.9467 - val_loss: 0.1003 - val_accuracy: 0.9627\n",
    "Epoch 12/20\n",
    "95/95 [==============================] - 28s 293ms/step - loss: 0.1255 - accuracy: 0.9490 - val_loss: 0.0954 - val_accuracy: 0.9611\n",
    "Epoch 13/20\n",
    "95/95 [==============================] - 29s 307ms/step - loss: 0.1209 - accuracy: 0.9512 - val_loss: 0.0912 - val_accuracy: 0.9660\n",
    "Epoch 14/20\n",
    "95/95 [==============================] - 30s 319ms/step - loss: 0.1166 - accuracy: 0.9516 - val_loss: 0.0864 - val_accuracy: 0.9660\n",
    "Epoch 15/20\n",
    "95/95 [==============================] - 34s 355ms/step - loss: 0.1137 - accuracy: 0.9538 - val_loss: 0.0840 - val_accuracy: 0.9683\n",
    "Epoch 16/20\n",
    "95/95 [==============================] - 34s 357ms/step - loss: 0.1101 - accuracy: 0.9552 - val_loss: 0.0827 - val_accuracy: 0.9642\n",
    "Epoch 17/20\n",
    "95/95 [==============================] - 34s 356ms/step - loss: 0.1070 - accuracy: 0.9556 - val_loss: 0.0790 - val_accuracy: 0.9691\n",
    "Epoch 18/20\n",
    "95/95 [==============================] - 34s 357ms/step - loss: 0.1037 - accuracy: 0.9571 - val_loss: 0.0767 - val_accuracy: 0.9716\n",
    "Epoch 19/20\n",
    "95/95 [==============================] - 34s 357ms/step - loss: 0.1005 - accuracy: 0.9584 - val_loss: 0.0737 - val_accuracy: 0.9738\n",
    "Epoch 20/20\n",
    "95/95 [==============================] - 35s 368ms/step - loss: 0.0975 - accuracy: 0.9596 - val_loss: 0.0718 - val_accuracy: 0.9708"
   ]
  },
  {
   "cell_type": "markdown",
   "metadata": {},
   "source": []
  },
  {
   "cell_type": "markdown",
   "metadata": {},
   "source": []
  },
  {
   "cell_type": "markdown",
   "metadata": {},
   "source": [
    "# Test Set Metrics"
   ]
  },
  {
   "cell_type": "code",
   "execution_count": 11,
   "metadata": {},
   "outputs": [
    {
     "name": "stdout",
     "output_type": "stream",
     "text": [
      "12/12 - 0s - loss: 0.3069 - accuracy: 0.8752\n",
      "loss: 0.307\n",
      "accuracy: 0.875\n"
     ]
    }
   ],
   "source": [
    "results = model.evaluate(test_data.batch(512), verbose=2)\n",
    "\n",
    "for name, value in zip(model.metrics_names, results):\n",
    "  print(\"%s: %.3f\" % (name, value))"
   ]
  },
  {
   "cell_type": "code",
   "execution_count": null,
   "metadata": {},
   "outputs": [],
   "source": []
  }
 ],
 "metadata": {
  "kernelspec": {
   "display_name": "Python 3",
   "language": "python",
   "name": "python3"
  },
  "language_info": {
   "codemirror_mode": {
    "name": "ipython",
    "version": 3
   },
   "file_extension": ".py",
   "mimetype": "text/x-python",
   "name": "python",
   "nbconvert_exporter": "python",
   "pygments_lexer": "ipython3",
   "version": "3.7.6"
  }
 },
 "nbformat": 4,
 "nbformat_minor": 4
}
